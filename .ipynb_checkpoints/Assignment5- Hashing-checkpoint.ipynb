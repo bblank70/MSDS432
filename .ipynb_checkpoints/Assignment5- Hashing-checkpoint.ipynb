{
 "cells": [
  {
   "cell_type": "markdown",
   "metadata": {},
   "source": [
    "# Assignment 5: Exploring Hashing\n",
    "\n",
    "\n",
    "In this exercise, we will begin to explore the concept of hashing and how it related to various object containers with respect to computational complexity.  We will begin with the base code for as described in Chapter 5 of Grokking Algorithms (Bhargava 2016).  \n"
   ]
  },
  {
   "cell_type": "markdown",
   "metadata": {},
   "source": [
    "## Deliverables:\n",
    "\n",
    "We will again generate random data for this assignment.  \n",
    "\n",
    "    1) Create a list of 100,000 names (randomly pick 10 characters e.g. abcdefghij, any order is fine, just make sure there are no duplicates names) and store those names in an unsorted list.\n",
    "\n",
    "    2) Now store the above names in a set\n",
    "    3) Make a separate copy of the list and sort it using any sorting algorithm that you have learned so far and justify why are you using it. Capture the time it takes to sort the list.\n",
    "\n",
    "\n",
    "    \n",
    "    4) Pick the names from the unsorted array that are at 10,000th, 30,000th, 50,000th, 70,000th, 90,000th, and 100,000th positions, and store them in a temporary array somewhere for later use.\n",
    "    5) Search for these six names in each of the collections.  Use linear search for the unsorted list, binary search for the sorted list, and use the set.remove() (or the in keyword) builtin for the set.  Capture the time it takes using all three algorithms.\n",
    "    6) Create a table and plot comparing times of linear search, binary search and set lookup for the six names using Python (matplotlib or Seaborn) or JavaScript (D3) visualization tools to illustrate algorithm performance. \n",
    "    \n",
    "### Prepare an executive summary of your results, referring to the table and figures you have generated. Explain how your results relate to big O notation. Describe your results in language that management can understand. This summary should be included as text paragraphs in the Jupyter notebook. Explain how the algorithm works and why it is a useful to data engineers."
   ]
  },
  {
   "cell_type": "markdown",
   "metadata": {},
   "source": [
    "# A. Setup: Library imports, Function construction and Array generation"
   ]
  },
  {
   "cell_type": "code",
   "execution_count": 13,
   "metadata": {},
   "outputs": [],
   "source": [
    "import numpy as np\n",
    "import pandas as pd\n",
    "\n",
    "import seaborn as sns\n",
    "import time\n",
    "\n",
    "import random\n",
    "import string\n",
    "\n",
    "\n",
    "RANDOM_SEED = 8 #sets random seed"
   ]
  },
  {
   "cell_type": "code",
   "execution_count": 14,
   "metadata": {},
   "outputs": [],
   "source": [
    "\n",
    "\n",
    "def random_string(str_length, num_strings):\n",
    "    str_list = [] #instantiates an empty list to hold the strings\n",
    "    for i in range(0,num_strings): #loop to generate the specified number of strings\n",
    "        str_list.append(''.join(random.choice(string.ascii_lowercase) for m in range(str_length))) #generates a string of the defined character length \n",
    "    return str_list #returns the string list\n",
    "\n",
    "\n",
    "\n",
    "\n",
    "def MergeSort(arr):\n",
    "    if len(arr) > 1:\n",
    "          \n",
    "        mid = len(arr)//2 # gets middle\n",
    "        Left = arr[:mid] #splits elements left of middle\n",
    "        Right = arr[mid:] #splits elements right of middle\n",
    "\n",
    "        MergeSort(Left) #recursive call on left \n",
    "        MergeSort(Right) #recursive call on right\n",
    " #set all indicies to 0 \n",
    "        i=0\n",
    "        k=0\n",
    "        j=0\n",
    " #below checks the values for if elements are sorted, if unsorted: swap. Merge to the original list    \n",
    "        while i < len(Left) and j < len(Right):\n",
    "            if Left[i] < Right[j]:\n",
    "                arr[k] = Left[i] #makes k index of arr left[i] if it's less than Right[j]\n",
    "                i += 1 #increments i (the left index)\n",
    "               \n",
    "            else:\n",
    "                arr[k] = Right[j] #if right value is lss than left, makes arr[k] the value of right and increments the right index\n",
    "                j += 1 #increments j\n",
    "            k += 1 #increments the arr index\n",
    "   \n",
    "        while i < len(Left): #checks to see if reamaining elements in left (less than mid), if so adds to arr at k index and increments i and k\n",
    "            arr[k] = Left[i]\n",
    "            i += 1 #increments i\n",
    "            k += 1 #increments k\n",
    " \n",
    "        while j < len(Right): #checks to see if remaining elements in right (greater than mid), if so adds to arr at k index and increments j and k.\n",
    "            arr[k] = Right[j]\n",
    "            j += 1 #increments j\n",
    "            k += 1 #increments k\n",
    "        \n",
    "        return arr\n",
    "\n",
    "\n",
    "\n",
    "def Container(arr, fun):\n",
    "    objects = [] #instantiates an empty list to collect the returns\n",
    "    times = [] #instantiates an empty list to collect times for each computation\n",
    "\n",
    "    start= time.perf_counter() #collects the start time\n",
    "    obj = fun(arr) # applies the function to the arr object\n",
    "    end = time.perf_counter() # collects end time\n",
    "    duration = (end-start)* 1E3 #converts to milliseconds\n",
    "    objects.append(obj)# adds the returns of the functions to the objects list\n",
    "    times.append(duration) # adds the duration for computation to list\n",
    "    return objects, duration\n",
    "\n",
    "\n",
    "#function SimpleSearch uses a value counter \"low\" which increments after a non successful evalution of equivalence for the item within a given array. It returns the milliseconds elapsed and a register of all the incremental guesses.\n",
    "def SimpleSearch(array, item):\n",
    "    i = 0 \n",
    "    guess = array[i]\n",
    "    start = time.perf_counter() # gets fractional seconds\n",
    "    while item != guess:\n",
    "            i += 1\n",
    "            guess = array[i] #increments low \n",
    "    end = time.perf_counter() # gets fractional seconds\n",
    "    duration = end - start # calcualates difference in fractional seconds\n",
    "    MilliElapsed = duration*1E3\n",
    " # returns a tuple which contains search time in milliseconds and register of the guesses\n",
    "    return MilliElapsed\n",
    "\n",
    "\n",
    "#function BinarySearch determines the range of the array and guwsses the midpoint of the range. A loop continues to to perform iterative range evaluations so long as the low value is equal or less than the high value of the array. When the gues converges to the item of interest, a tuple is returned with the time elapsed in milliseconds and the register of guesses.\n",
    "# binary search for the sorted list\n",
    "\n",
    "def BinarySearch(array, item):\n",
    "    i = 0\n",
    "    length = len(array)-1\n",
    "    low = array[i] #finds lowest value in array\n",
    "    high = array[length] #finds highest value in array\n",
    "    register = [] # creates  empty register of increments; for debug purposes\n",
    "    start = time.perf_counter() # gets fractional seconds\n",
    "    while i <= length:     \n",
    "        mid= (i + length)/2  # calculates midpoint of the range\n",
    "        guess = int(mid)\n",
    "        \n",
    "        register.append(array[guess]) # appends increments to register; for debug purposes\n",
    "        if array[guess] == item:\n",
    "                end = time.perf_counter() #datetime.utcnow()\n",
    "                duration = end - start\n",
    "                MilliElapsed = duration*1E3\n",
    "                #print('the string is found for:', n)  \n",
    "#returns a tuple which contains search time in milliseconds and register of the guesses \n",
    "                return MilliElapsed #, register\n",
    "        elif array[guess] > item: ##### loop for if guess is higher than the item\n",
    "                high = array[guess] #resets high to the item at the guess index\n",
    "                low = array[i] #resets low to the item at the i index (typically index 0)\n",
    "                length = guess#resets length to guess\n",
    "                #print('The guess went too high!', n, i, array[guess])\n",
    "        elif array[guess] < item: ######loop for if guess is lower the the item\n",
    "                low = array[guess] #reset low to the index of guess\n",
    "                length = len(array)-1 #get the length of the array to pass to high\n",
    "                high = array[length] #reset high to be the end of the list\n",
    "                i = guess+1 #make sure we increment i so that it can become the end of the list, otherwise you are going to have a bad time!\n",
    "                #print('The guess went too low!',n, i, high, length, low)\n",
    "\n",
    "                \n"
   ]
  },
  {
   "cell_type": "code",
   "execution_count": 15,
   "metadata": {},
   "outputs": [],
   "source": [
    " \n",
    "str100000 = random_string(str_length=10, num_strings=100000) #generates random strings\n",
    "str100000_copy = str100000[:] #creates a copy of the random strings\n",
    "\n",
    "start = time.perf_counter()\n",
    "MergeSort(str100000)\n",
    "end = time.perf_counter()\n",
    "duration = end - start\n",
    "MS_time = duration*1E3\n",
    "\n",
    "\n",
    "\n",
    "positions = [9999, 29999, 49999, 69999, 89999, 99999] #positions of the names (needles)\n",
    "\n",
    "needles = [str100000_copy[i] for i in positions] #collects the needles from the haystack\n",
    "\n",
    "\n",
    "\n",
    "str100000_container =Container(str100000, MergeSort) #uses mergesort to sort the strings.\n",
    "temp =str100000_container[0]\n",
    "str100000_sorted =temp[0]\n",
    "\n",
    "\n",
    "set_str100000 = set(str100000_copy)"
   ]
  },
  {
   "cell_type": "code",
   "execution_count": 16,
   "metadata": {},
   "outputs": [
    {
     "name": "stdout",
     "output_type": "stream",
     "text": [
      "the needles are: ['umnsruziow', 'htrcfaehva', 'bazjvsziik', 'uwhlforaid', 'dbngojqagt', 'duvcrxladc']\n",
      "the length of the set is: 100000\n",
      "the length of the unsorted copy is: 100000\n",
      "the length of the sorted list (mergesort) is: 100000\n"
     ]
    }
   ],
   "source": [
    "print('the needles are:' , needles)\n",
    "print('the length of the set is:' ,len(set_str100000))\n",
    "print('the length of the unsorted copy is:' , len(str100000_copy))\n",
    "print('the length of the sorted list (mergesort) is:', len(str100000_sorted))"
   ]
  },
  {
   "cell_type": "markdown",
   "metadata": {},
   "source": [
    "# B. Sorting\n"
   ]
  },
  {
   "cell_type": "markdown",
   "metadata": {},
   "source": [
    "Search for these six names in each of the collections.  Use linear search for the unsorted list, binary search for the sorted list, and use the set.remove() (or the in keyword) builtin for the set.  Capture the time it takes using all three algorithms.\n"
   ]
  },
  {
   "cell_type": "markdown",
   "metadata": {},
   "source": [
    "### B1. Linear Search of the unsorted list"
   ]
  },
  {
   "cell_type": "code",
   "execution_count": 17,
   "metadata": {
    "tags": []
   },
   "outputs": [
    {
     "name": "stdout",
     "output_type": "stream",
     "text": [
      "The time reqired for each element in the unsorted array using linear search is: [0.7307000000018604, 2.1928999999971666, 3.916500000002543, 4.756900000000286, 6.770899999999358, 7.195099999997012]\n"
     ]
    }
   ],
   "source": [
    "#linear search for the unsorted list\n",
    "Linear_times = []\n",
    "for n in needles:\n",
    "    temp_time = SimpleSearch(str100000_copy, n)\n",
    "    Linear_times.append(temp_time)\n",
    "print('The time reqired for each element in the unsorted array using linear search is:', Linear_times)"
   ]
  },
  {
   "cell_type": "markdown",
   "metadata": {},
   "source": [
    "### B2. Binary Search of the sorted list"
   ]
  },
  {
   "cell_type": "code",
   "execution_count": 18,
   "metadata": {
    "tags": []
   },
   "outputs": [
    {
     "name": "stdout",
     "output_type": "stream",
     "text": [
      "The time reqired for each element in the unsorted array using Binary search is: [0.04059999999839192, 0.023299999998727117, 0.03219999999970469, 0.022400000002420484, 0.05859999999913157, 0.050200000000444334]\n"
     ]
    }
   ],
   "source": [
    "Binary_times = []\n",
    "for n in needles:\n",
    "    temp_time = BinarySearch(str100000, n)\n",
    "    Binary_times.append(temp_time)\n",
    "print('The time reqired for each element in the unsorted array using Binary search is:', Binary_times)"
   ]
  },
  {
   "cell_type": "markdown",
   "metadata": {},
   "source": [
    "### B3. Set Removal for the Set"
   ]
  },
  {
   "cell_type": "code",
   "execution_count": 19,
   "metadata": {},
   "outputs": [
    {
     "data": {
      "text/plain": [
       "{'umnsruziow': 0.0034000000006528808,\n",
       " 'dbngojqagt': 0.001999999998503199,\n",
       " 'duvcrxladc': 0.0011999999998124622,\n",
       " 'htrcfaehva': 0.001999999998503199,\n",
       " 'uwhlforaid': 0.0011999999998124622,\n",
       " 'bazjvsziik': 0.0007000000010748408}"
      ]
     },
     "execution_count": 19,
     "metadata": {},
     "output_type": "execute_result"
    }
   ],
   "source": [
    "set_needles = set(needles)\n",
    "set_times = {}\n",
    "for needle in set_needles:\n",
    "    start = time.perf_counter()\n",
    "    set_str100000.intersection(needle)\n",
    "    end = time.perf_counter()\n",
    "    duration = end - start\n",
    "    MilliElapsed = duration*1E3\n",
    "    set_times[needle] = MilliElapsed\n",
    "set_times"
   ]
  },
  {
   "cell_type": "markdown",
   "metadata": {},
   "source": [
    "# C. Summary\n",
    "\n",
    "## Figure 1: Search times in milliseconds for Strings within an array of 100000 elements (each string 10 random lowercase alpha characters)"
   ]
  },
  {
   "cell_type": "code",
   "execution_count": 20,
   "metadata": {},
   "outputs": [
    {
     "data": {
      "text/html": [
       "<div>\n",
       "<style scoped>\n",
       "    .dataframe tbody tr th:only-of-type {\n",
       "        vertical-align: middle;\n",
       "    }\n",
       "\n",
       "    .dataframe tbody tr th {\n",
       "        vertical-align: top;\n",
       "    }\n",
       "\n",
       "    .dataframe thead th {\n",
       "        text-align: right;\n",
       "    }\n",
       "</style>\n",
       "<table border=\"1\" class=\"dataframe\">\n",
       "  <thead>\n",
       "    <tr style=\"text-align: right;\">\n",
       "      <th></th>\n",
       "      <th>String</th>\n",
       "      <th>PostionInSortedArray</th>\n",
       "      <th>LinearSearch(Unsorted)</th>\n",
       "      <th>BinarySearch(Sorted)</th>\n",
       "      <th>SetIntersection(Unsorted)</th>\n",
       "      <th>Binary+Sort</th>\n",
       "    </tr>\n",
       "  </thead>\n",
       "  <tbody>\n",
       "    <tr>\n",
       "      <th>0</th>\n",
       "      <td>umnsruziow</td>\n",
       "      <td>10000</td>\n",
       "      <td>0.7307</td>\n",
       "      <td>0.0406</td>\n",
       "      <td>0.0034</td>\n",
       "      <td>642.6376</td>\n",
       "    </tr>\n",
       "    <tr>\n",
       "      <th>1</th>\n",
       "      <td>htrcfaehva</td>\n",
       "      <td>30000</td>\n",
       "      <td>2.1929</td>\n",
       "      <td>0.0233</td>\n",
       "      <td>0.0020</td>\n",
       "      <td>642.6203</td>\n",
       "    </tr>\n",
       "    <tr>\n",
       "      <th>2</th>\n",
       "      <td>bazjvsziik</td>\n",
       "      <td>50000</td>\n",
       "      <td>3.9165</td>\n",
       "      <td>0.0322</td>\n",
       "      <td>0.0007</td>\n",
       "      <td>642.6292</td>\n",
       "    </tr>\n",
       "    <tr>\n",
       "      <th>3</th>\n",
       "      <td>uwhlforaid</td>\n",
       "      <td>70000</td>\n",
       "      <td>4.7569</td>\n",
       "      <td>0.0224</td>\n",
       "      <td>0.0012</td>\n",
       "      <td>642.6194</td>\n",
       "    </tr>\n",
       "    <tr>\n",
       "      <th>4</th>\n",
       "      <td>dbngojqagt</td>\n",
       "      <td>90000</td>\n",
       "      <td>6.7709</td>\n",
       "      <td>0.0586</td>\n",
       "      <td>0.0020</td>\n",
       "      <td>642.6556</td>\n",
       "    </tr>\n",
       "    <tr>\n",
       "      <th>5</th>\n",
       "      <td>duvcrxladc</td>\n",
       "      <td>100000</td>\n",
       "      <td>7.1951</td>\n",
       "      <td>0.0502</td>\n",
       "      <td>0.0012</td>\n",
       "      <td>642.6472</td>\n",
       "    </tr>\n",
       "  </tbody>\n",
       "</table>\n",
       "</div>"
      ],
      "text/plain": [
       "       String  PostionInSortedArray  LinearSearch(Unsorted)  \\\n",
       "0  umnsruziow                 10000                  0.7307   \n",
       "1  htrcfaehva                 30000                  2.1929   \n",
       "2  bazjvsziik                 50000                  3.9165   \n",
       "3  uwhlforaid                 70000                  4.7569   \n",
       "4  dbngojqagt                 90000                  6.7709   \n",
       "5  duvcrxladc                100000                  7.1951   \n",
       "\n",
       "   BinarySearch(Sorted)  SetIntersection(Unsorted)  Binary+Sort  \n",
       "0                0.0406                     0.0034     642.6376  \n",
       "1                0.0233                     0.0020     642.6203  \n",
       "2                0.0322                     0.0007     642.6292  \n",
       "3                0.0224                     0.0012     642.6194  \n",
       "4                0.0586                     0.0020     642.6556  \n",
       "5                0.0502                     0.0012     642.6472  "
      ]
     },
     "execution_count": 20,
     "metadata": {},
     "output_type": "execute_result"
    }
   ],
   "source": [
    "Strings = {\n",
    "    'String': [needles[0], needles[1],needles[2], needles[3],needles[4], needles[5]],\n",
    "    'PostionInSortedArray': [10000, 30000, 50000, 70000, 90000, 100000],\n",
    "    'LinearSearch(Unsorted)': [Linear_times[0], Linear_times[1], Linear_times[2], Linear_times[3], Linear_times[4], Linear_times[5]], \n",
    "    'BinarySearch(Sorted)': [Binary_times[0], Binary_times[1], Binary_times[2], Binary_times[3], Binary_times[4], Binary_times[5]],\n",
    "    'SetIntersection(Unsorted)': [set_times.get(needles[0]), set_times.get(needles[1]), set_times.get(needles[2]), set_times.get(needles[3]), set_times.get(needles[4]), set_times.get(needles[5])]\n",
    "    }\n",
    "\n",
    "string_df = pd.DataFrame.from_dict(Strings)\n",
    "string_df['Binary+Sort'] = string_df['BinarySearch(Sorted)']+MS_time\n",
    "string_df"
   ]
  },
  {
   "cell_type": "markdown",
   "metadata": {},
   "source": [
    "## Table 1: Times for each algorithm given the length of the starting list"
   ]
  },
  {
   "cell_type": "code",
   "execution_count": 21,
   "metadata": {},
   "outputs": [],
   "source": [
    "long_df =  string_df.melt(id_vars=['String', 'PostionInSortedArray'],\n",
    "                    value_vars=['LinearSearch(Unsorted)', 'BinarySearch(Sorted)', 'SetIntersection(Unsorted)'],var_name='Algo', value_name='Time(ms)') "
   ]
  },
  {
   "cell_type": "markdown",
   "metadata": {},
   "source": [
    "## Figure 1: Sorth Algorithm Time Complexity"
   ]
  },
  {
   "cell_type": "code",
   "execution_count": 22,
   "metadata": {},
   "outputs": [
    {
     "data": {
      "text/plain": [
       "<AxesSubplot:xlabel='PostionInSortedArray', ylabel='Time(ms)'>"
      ]
     },
     "execution_count": 22,
     "metadata": {},
     "output_type": "execute_result"
    },
    {
     "data": {
      "image/png": "[encoded data removed]",
      "text/plain": [
       "<Figure size 432x288 with 1 Axes>"
      ]
     },
     "metadata": {
      "needs_background": "light"
     },
     "output_type": "display_data"
    }
   ],
   "source": [
    "sns.barplot(data = long_df, x='PostionInSortedArray', hue='Algo', y='Time(ms)')\n"
   ]
  },
  {
   "cell_type": "code",
   "execution_count": 23,
   "metadata": {},
   "outputs": [
    {
     "data": {
      "image/png": "[encoded data removed]",
      "text/plain": [
       "<Figure size 432x288 with 1 Axes>"
      ]
     },
     "metadata": {
      "needs_background": "light"
     },
     "output_type": "display_data"
    }
   ],
   "source": [
    "plot = sns.barplot(data = long_df, x='PostionInSortedArray', hue='Algo', y='Time(ms)')\n",
    "plot.set_yscale('log')"
   ]
  },
  {
   "cell_type": "markdown",
   "metadata": {},
   "source": [
    "## Figure 2: Merge and Quick Sort time complexity"
   ]
  },
  {
   "cell_type": "markdown",
   "metadata": {},
   "source": [
    "# Discussion\n",
    "\n",
    "Three sorting algorithms were tested for their time complexity in sorting lists of varying sizes of string elements. Each string element in the list was randomly populated with 50 alphabetic lower case characters. The number of elements within the list was varied. Five lists containing 200, 400, 600, 800, and 1000 strings were sorted via BubbleSort, MergeSort, and QuickSort. The times (given in milliseconds) required to perform the sort are collected and displayed in Table 1. By far, the most inefficient sorting algorithm demonstrated here is the bubble sort whose complexity is shown graphically (figure 1) to grow at n\\*n or O(n^2) rate. This makes sense for bubble sort as it compares n elements amongst n elements.  \n",
    "\n",
    "Alternatively, the other two methodologies utilize a divide and conquer strategy. The list of strings when using QuickSort are divided into two arrays (greater and less) which contain values which are greater or less than a pivot value. In MergeSort a similar strategy is achieved by dividing the list into two arrays (left and right) which are left and right respectivly from the center element of the list. In both of these arrays recursion is used as the QuickSort and MergeSort functions are called on the subarrays. The result of this divide and conquer strategy is a complexity of n*logn or O(n*logn) in big O notation. A direct comparision of the times required for sorting the lists with these two methodologies are shown in Figure 2. \n",
    "\n",
    "In rare instances QuickSort may also dramatically underperform as the pivot element is always selected as the first item of the array (or subarray). If an array contained a list which was sorted largest to smallest already, this method could also have very high complexity as you would not divide the list recursively for an array of n size (this would also be n\\*n complexity O(n^2)). It is interesting the QuickSort seems to perform slightly better than MergeSort, but both are quite efficient. Because of the splitting methodology employed by the MergeSort, there lacks a risk of any deviation from the O(n*logn) complexity. The begining array and subarrays are always split in half size-wise. It's therefore recommended that the MergeSort method be used as the time complexity will always be constant. "
   ]
  },
  {
   "cell_type": "markdown",
   "metadata": {},
   "source": [
    "# ------------------------ END ------------------------\n"
   ]
  },
  {
   "cell_type": "code",
   "execution_count": 24,
   "metadata": {},
   "outputs": [],
   "source": [
    "# binary search for the sorted list\n",
    "\n",
    "def BinarySearch(array, item):\n",
    "    i = 0\n",
    "    length = len(array)-1\n",
    "    low = array[i] #finds lowest value in array\n",
    "    high = array[length] #finds highest value in array\n",
    "    register = [] # creates  empty register of increments; for debug purposes\n",
    "    start = time.perf_counter() # gets fractional seconds\n",
    "    while i <= length:     \n",
    "        mid= (i + length)/2  # calculates midpoint of the range\n",
    "        guess = int(mid)\n",
    "        \n",
    "        register.append(array[guess]) # appends increments to register; for debug purposes\n",
    "        if array[guess] == item:\n",
    "                end = time.perf_counter() #datetime.utcnow()\n",
    "                duration = end - start\n",
    "                MilliElapsed = duration*1E3\n",
    "                #print('the string is found for:', n)  \n",
    "#returns a tuple which contains search time in milliseconds and register of the guesses \n",
    "                return MilliElapsed #, register\n",
    "        elif array[guess] > item:\n",
    "                high = array[guess]\n",
    "                low = array[i]\n",
    "                length = guess\n",
    "                #print('The guess went too high!', n, i, array[guess])\n",
    "        elif array[guess] < item: \n",
    "                low = array[guess]\n",
    "                length = len(array)-1\n",
    "                high = array[length]\n",
    "                i = guess+1\n",
    "                #print('The guess went too low!',n, i, high, length, low)\n",
    "\n",
    "        else:\n",
    "            print('item not found!')\n",
    "                "
   ]
  }
 ],
 "metadata": {
  "kernelspec": {
   "display_name": "Python 3",
   "language": "python",
   "name": "python3"
  },
  "language_info": {
   "codemirror_mode": {
    "name": "ipython",
    "version": 3
   },
   "file_extension": ".py",
   "mimetype": "text/x-python",
   "name": "python",
   "nbconvert_exporter": "python",
   "pygments_lexer": "ipython3",
   "version": "3.7.9"
  }
 },
 "nbformat": 4,
 "nbformat_minor": 2
}
