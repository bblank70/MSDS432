{
 "metadata": {
  "language_info": {
   "codemirror_mode": {
    "name": "ipython",
    "version": 3
   },
   "file_extension": ".py",
   "mimetype": "text/x-python",
   "name": "python",
   "nbconvert_exporter": "python",
   "pygments_lexer": "ipython3",
   "version": "3.7.9-final"
  },
  "orig_nbformat": 2,
  "kernelspec": {
   "name": "python379jvsc74a57bd0d21ade3f8f024ee8ef81c475e4ba98f13d175885fba3236d9d4d73bd66cf6406",
   "display_name": "Python 3.7.9 64-bit (conda)"
  }
 },
 "nbformat": 4,
 "nbformat_minor": 2,
 "cells": [
  {
   "source": [
    "# Assignment 3: Implementation a Recursive Algorightm\n",
    "\n",
    "\n",
    "In this Mini Programming Assignment, we will explore the differences between iteration and recursion.  We will begin with the base code for recursion as described in Chapter 3 of Grokking Algorithms (Bhargava 2016).\n"
   ],
   "cell_type": "markdown",
   "metadata": {}
  },
  {
   "source": [
    "## Deliverables:\n",
    "\n",
    "We will again generate random data for this assignment.  \n",
    "\n",
    "    1) Set up five lists of randomly generated strings of characters (i.e. a-z or A-Z e.g. abcdefkjklkjlkjlkjkljlkjlkjlkjkljasdfgtredghjkiuyt). \n",
    "        Each string should be 50 characters long. The first list should have 200 strings (each string should be 50 characters long), \n",
    "        second should have 400 strings (again each string is 50 characters), third 600 (same length strings i.e. 50 characters), \n",
    "        fourth 800 (string length continues to be 50 characters), and \n",
    "        last/fifth 1000 strings (yes 50 characters in each string). \n",
    "    2) You may use the code we used in previous homework assignments.  Make sure the list is unsorted and does not contain any duplicates.\n",
    "    3) Use the textbook implementation of quicksort to sort the data, being sure to capture the amount of time it takes for each list. \n",
    "    4) Now use at least two other sorting algorithms on the same data set (e.g. merge sort, bubble sort, insertion sort, etc).  \n",
    "        Make sure that you code the sorting algorithm and you do not use a builtin function. By this I mean you may not use np.sort() or sorted(), etc.\n",
    "        You must code the algorithm in order to compare the complexity of each.  Here is a good resource https://www.geeksforgeeks.org/sorting-algorithms/ (Links to an external site.)).\n",
    "        Capture the computation time for each list using each sorting algorithm that you have used. \n",
    "\n",
    "    5) Create a table containing each algorithm and the timings for each list.  Provide a graph showing how each algorithm scales with size of list (also compare the algorithms themselves).\n",
    "        Discuss your findings with explanations for what you observe.  \n",
    "\n",
    "### Prepare an executive summary of your results, referring to the table and figures you have generated. Explain how your results relate to big O notation. Describe your results in language that management can understand. This summary should be included as text paragraphs in the Jupyter notebook. Explain how the algorithm works and why it is a useful to data engineers."
   ],
   "cell_type": "markdown",
   "metadata": {}
  },
  {
   "source": [
    "# A. Setup: Library imports, Function construction and Array generation"
   ],
   "cell_type": "markdown",
   "metadata": {}
  },
  {
   "source": [
    "import numpy as np\n",
    "import pandas as pd\n",
    "\n",
    "import seaborn as sns\n",
    "import time\n",
    "\n",
    "\n",
    "import string\n",
    "import random\n",
    "\n",
    "RANDOM_SEED = 8 #sets random seed"
   ],
   "cell_type": "code",
   "metadata": {},
   "execution_count": 4,
   "outputs": []
  },
  {
   "cell_type": "code",
   "execution_count": 7,
   "metadata": {},
   "outputs": [
    {
     "output_type": "stream",
     "name": "stdout",
     "text": [
      "UhGNGnmEqPzgIgqVlsIUzHYIwgdSeuAoXkgHAOwYwgqVLvWHXy\n"
     ]
    }
   ],
   "source": [
    "\n",
    "\n",
    "\n",
    "def random_string(length):\n",
    "    return ''.join(random.choice(string.ascii_letters) for m in range(length))\n",
    "\n",
    "print(random_string(50))\n"
   ]
  },
  {
   "source": [
    "# ------------------------ END ------------------------\n",
    "\n",
    "    code graveyard "
   ],
   "cell_type": "markdown",
   "metadata": {}
  },
  {
   "source": [
    "#### This was an unsustainable path, too much copy paste, this made me figure out the discrepency between np.int dtypes and the python int() the later having flexible size while numpy is constrained to either 32 or 64 bit. Both of these are too small for the generated factorials.\n",
    "# \n",
    "# def SingleRecursionContainer(x, fun):\n",
    "#        factorials = []\n",
    "#        times = []\n",
    "#        start= time.perf_counter()\n",
    "#        fact = (fun(x))\n",
    "#        end = time.perf_counter()\n",
    "#        duration = (end-start)* 1E3\n",
    "#        factorials.append(fact)\n",
    "#        times.append(duration)\n",
    "#        return factorials, times\n",
    "\n"
   ],
   "cell_type": "code",
   "metadata": {},
   "execution_count": 19,
   "outputs": []
  },
  {
   "cell_type": "code",
   "execution_count": 20,
   "metadata": {},
   "outputs": [],
   "source": [
    "#arr0_stats = SingleRecursionContainer(int(arr[0]) ,RecursiveFact)\r\n",
    "#arr1_stats = SingleRecursionContainer(int(arr[1]) ,RecursiveFact)\r\n",
    "#arr2_stats = SingleRecursionContainer(int(arr[2]) ,RecursiveFact)\r\n",
    "#arr3_stats = SingleRecursionContainer(int(arr[3]) ,RecursiveFact)\r\n",
    "#arr4_stats =SingleRecursionContainer(int(arr[4]) ,RecursiveFact)\r\n"
   ]
  }
 ]
}