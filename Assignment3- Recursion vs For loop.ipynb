{
 "metadata": {
  "language_info": {
   "codemirror_mode": {
    "name": "ipython",
    "version": 3
   },
   "file_extension": ".py",
   "mimetype": "text/x-python",
   "name": "python",
   "nbconvert_exporter": "python",
   "pygments_lexer": "ipython3",
   "version": "3.7.9-final"
  },
  "orig_nbformat": 2,
  "kernelspec": {
   "name": "python379jvsc74a57bd0d21ade3f8f024ee8ef81c475e4ba98f13d175885fba3236d9d4d73bd66cf6406",
   "display_name": "Python 3.7.9 64-bit ('bblank': virtualenv)"
  }
 },
 "nbformat": 4,
 "nbformat_minor": 2,
 "cells": [
  {
   "source": [
    "# Assignment 3: Implementation a Recursive Algorightm\n",
    "\n",
    "\n",
    "In this Mini Programming Assignment, we will explore the differences between iteration and recursion.  We will begin with the base code for recursion as described in Chapter 3 of Grokking Algorithms (Bhargava 2016).\n"
   ],
   "cell_type": "markdown",
   "metadata": {}
  },
  {
   "source": [
    "## Deliverables:\n",
    "\n",
    "We will again generate random data for this assignment.  \n",
    "\n",
    "    1) Set up an array of ten random numbers between 100 and 500 (just one array with 10 numbers).\n",
    "    2) Calculate the factorial of each of the numbers using a simple FOR loop.  Please capture the start/end times and store the results in an array, or linked list, or dictionary.\n",
    "    3) Calculate the factorial of each of the numbers using recursion.  Please capture the start/end times and store the results in an array, or linked list, or dictionary. \n",
    "    4) Organize the results of the study into a table showing the number, it's factorial, the time to calculate the factorial using recursion, the time to calculate factorial using FOR loop, and the difference between times.\n",
    "    5) Use python matplotlib or seaborn to generate a graph that has number on the horizontal axis and with execution time in milliseconds on the vertical axis. The plot should show execution times of recursion and the loop.\n",
    "\n",
    "### Prepare an executive summary of your results, referring to the table and figures you have generated. Explain how your results relate to big O notation. Describe your results in language that management can understand. This summary should be included as text paragraphs in the Jupyter notebook. Explain how the algorithm works and why it is a useful to data engineers."
   ],
   "cell_type": "markdown",
   "metadata": {}
  },
  {
   "source": [
    "# A. Setup: Library imports, Function construction and Array generation"
   ],
   "cell_type": "markdown",
   "metadata": {}
  },
  {
   "source": [
    "import numpy as np\n",
    "import pandas as pd\n",
    "from datetime import datetime\n",
    "import seaborn as sns\n",
    "import time\n",
    "from decimal import Decimal\n",
    "\n",
    "RANDOM_SEED = 123"
   ],
   "cell_type": "code",
   "metadata": {},
   "execution_count": 1,
   "outputs": []
  },
  {
   "cell_type": "code",
   "execution_count": 2,
   "metadata": {},
   "outputs": [],
   "source": [
    "def LoopFact(x):\n",
    "    fact = 1\n",
    "    for i in range(1,x+1):\n",
    "        fact = fact * i\n",
    "    return fact\n",
    "\n",
    "\n",
    "def RecursiveFact(x):\n",
    "    if x == 1:\n",
    "        return 1\n",
    "    else:\n",
    "        return x * RecursiveFact(x-1)\n",
    "\n",
    "def FactContainer(arr, fun):\n",
    "    factorials = []\n",
    "    times = []\n",
    "    for i in range(0, len(arr)):\n",
    "        start= time.perf_counter()\n",
    "        x = arr[i]\n",
    "        fact = fun(int(x))\n",
    "        end = time.perf_counter()\n",
    "        duration = (end-start)* 1E3\n",
    "        factorials.append(fact)\n",
    "        times.append(duration)\n",
    "    return factorials, times\n",
    "        "
   ]
  },
  {
   "cell_type": "code",
   "execution_count": 3,
   "metadata": {},
   "outputs": [
    {
     "output_type": "execute_result",
     "data": {
      "text/plain": [
       "array([465, 482, 422, 198, 330, 117, 183, 206, 223, 157], dtype=int64)"
      ]
     },
     "metadata": {},
     "execution_count": 3
    }
   ],
   "source": [
    "np.random.seed(RANDOM_SEED)    \n",
    "arr = np.random.randint(low=100, high= 501, size=10)\n",
    "arr = np.int64(arr)\n",
    "arr"
   ]
  },
  {
   "cell_type": "code",
   "execution_count": 4,
   "metadata": {},
   "outputs": [],
   "source": [
    "# Test array, I needed something verifiable\n",
    "#r = np.random.randint(low=5, high =10, size=2)\n",
    "#r"
   ]
  },
  {
   "source": [
    "# B1. Generate Factorials and times for the loop function using the FactContainer function"
   ],
   "cell_type": "markdown",
   "metadata": {}
  },
  {
   "cell_type": "code",
   "execution_count": 5,
   "metadata": {},
   "outputs": [],
   "source": [
    "LoopFactorials = FactContainer(arr, LoopFact)\n"
   ]
  },
  {
   "cell_type": "code",
   "execution_count": 6,
   "metadata": {},
   "outputs": [
    {
     "output_type": "execute_result",
     "data": {
      "text/plain": [
       "([141769644386276773795096986285364375796766105671445102736806272429860461506461061641438356776810900777587165118642126728219031819553811039657454555475303647258610555752532635605804477616949637455524692868157363692398576501665278620754951124766689906656173181672315838692679435514033703861275657463800016697088102466182559949119777768283939358005802055670135317438988912891912980503784136736601911517117705268939343809154852661715463970765338728860787236397760744595380015301353044678177850326052663362261353333862950326510463487853333569162416065738440042468517214750091528702267384297395612530592409786413880610644340379308821687547582694621981829933252798000206737438777110242316920240861745246341048578077645838083166823359933351693397416101456814572342619664183720067739443788595786190552752948554945645500820276375313805982171514175832310365472759631177051991924982844609451922033480279724373078859630154736745402486226944000000000000000000000000000000000000000000000000000000000000000000000000000000000000000000000000000000000000000000,\n",
       "  435933949881706146185718511304022620331968745845696308618989380214746662872081201214854711693852231732404048122880178053692000205127254778216975041802702271618681733339890065193599009975076013136714329018060221602517153669498477294431399206596481384215651276430295654864886553893106103606645895064195599420506195328458470365558643958259184463943470591942680583248392745348579334970692406316666157365883539310276888883614714687736002885162056576683004704301031178915273547964899645382792627722052063923746611003756596161566731341666389284259340092071686451734587202193646664713472794665952353280839514373940878869578768789501033178345653514287066340081587910092811900077012442779478054189118608706853641992476017024395285806775111070814423067110416520652929939936130201962616871157293056320763528097941663308796661109677023082692774690168113039696589058078507674594688442368775667700995276213464306721134831989965530345400973893111430551273311836259175757306554293944320000000000000000000000000000000000000000000000000000000000000000000000000000000000000000000000000000000000000000000000,\n",
       "  209611383012576635876856401893914866426066372166774021105107419272349194310311448669690479132859659861580094983785283237190059139356104454480943809268951423737197619921802099702035272489020871300804426419176691976261020700182922928638458739244713639544815723484810878099548639946916348566758540770208501379361588417208280935243119770504600344079531656318416842816431857837438189657323697706428164664883595800546483387661817010631976342923673882077669505282512663645432253105415102629767347026792273289184753448697507194719203574073180686327567596741721911463018048819628257204923103613375586094654287055485186369934351227744501509631699604606237889558290765106772598640145083285151220811060746817836612987177407390236711283138099810105240401010605773792397667328544760431469273644315657274742873944639056325292778468084285440000000000000000000000000000000000000000000000000000000000000000000000000000000000000000000000000000000,\n",
       "  19815524305648002601818171204326257846611456725808373449616646563928629396065410626138298593265945324225558093942704493222553838950820027765375040827960551033001579328411138624055200727234232302046524227142061137986535960488148111891395081467526982493475408477527124840709196781511817187496273890924527108598562553359394406400000000000000000000000000000000000000000000000,\n",
       "  282408462258387108656010655350984421358230615548447917125973819061204087953410675131671734564885871836994857584240516052408604307341165067052618235515335592584915380124888501444241764715270102858062404841105269072530716903612341880567810839552257654493601149492226043075446286770769000253550746729503424973082816170493716827307049254457005433342709751252779561887750731817363130345796960363500671701037989412254276572406991428638655860396457246350737148451362954300400237985662037640867840591473444985051111706915459551705135096581824248890720926775939456276390199877799787488537304338284684150359621520850944000000000000000000000000000000000000000000000000000000000000000000000000000000000,\n",
       "  3969937160808720895401959629498630647790406360168322301129748464310422041758630649341780708631240196854767624444057168110272995649603642560353748940315749184568295424000000000000000000000000000,\n",
       "  1211079010624906224171770242040000913194755344907123328387229208384122199143398983962077168073033852647945203036376445283346314711222230177466494273255728793463071956674839497876987299889729720327479783667584731115257659422804284707863129430806869565563037239578516564219715854442393339376435200000000000000000000000000000000000000000000,\n",
       "  55999397401181624007970525662228881095168659729947683663459568612877337687103244532741481446193158669223111681827099783995223685855991394533857968704451505138207572405603545223305877760386469231760852842439470446554717967072798418218925958492128260636540143129576946167209039675309828823599001441864639500011288693462578636098658615322214400000000000000000000000000000000000000000000000000,\n",
       "  249873185435436430377698987059663362395086628984728391823112288166942630559511819124255704981537449930570629002821280463185334406128048989132838398791636205678208673855202473444935869602342296488442348182529563060454306401874514103425982529680729837954985416328663177512069858595443931833472658803081894351725778122546461871134622081830651613340173985723024483556319497604300800000000000000000000000000000000000000000000000000000,\n",
       "  117295687942641442819215807155131552511541831623044593627324799557544824622696635505477776012587322789677057983246655387237020188804608945581290772992175589402436306154362961985393763847475223716979100487761173428095446685622490578985733324800000000000000000000000000000000000000],\n",
       " [0.06619999999202264,\n",
       "  0.06120000000464643,\n",
       "  0.049000000004184585,\n",
       "  0.016900000005648508,\n",
       "  0.034500000012371856,\n",
       "  0.009199999993825259,\n",
       "  0.015500000003498826,\n",
       "  0.018199999999524152,\n",
       "  0.021099999997886698,\n",
       "  0.012799999993262645])"
      ]
     },
     "metadata": {},
     "execution_count": 6
    }
   ],
   "source": [
    "LoopFactorials"
   ]
  },
  {
   "source": [
    "# B2. Generate Factorials Recursively using the FactContainer function"
   ],
   "cell_type": "markdown",
   "metadata": {}
  },
  {
   "cell_type": "code",
   "execution_count": 7,
   "metadata": {},
   "outputs": [
    {
     "output_type": "execute_result",
     "data": {
      "text/plain": [
       "([141769644386276773795096986285364375796766105671445102736806272429860461506461061641438356776810900777587165118642126728219031819553811039657454555475303647258610555752532635605804477616949637455524692868157363692398576501665278620754951124766689906656173181672315838692679435514033703861275657463800016697088102466182559949119777768283939358005802055670135317438988912891912980503784136736601911517117705268939343809154852661715463970765338728860787236397760744595380015301353044678177850326052663362261353333862950326510463487853333569162416065738440042468517214750091528702267384297395612530592409786413880610644340379308821687547582694621981829933252798000206737438777110242316920240861745246341048578077645838083166823359933351693397416101456814572342619664183720067739443788595786190552752948554945645500820276375313805982171514175832310365472759631177051991924982844609451922033480279724373078859630154736745402486226944000000000000000000000000000000000000000000000000000000000000000000000000000000000000000000000000000000000000000000,\n",
       "  435933949881706146185718511304022620331968745845696308618989380214746662872081201214854711693852231732404048122880178053692000205127254778216975041802702271618681733339890065193599009975076013136714329018060221602517153669498477294431399206596481384215651276430295654864886553893106103606645895064195599420506195328458470365558643958259184463943470591942680583248392745348579334970692406316666157365883539310276888883614714687736002885162056576683004704301031178915273547964899645382792627722052063923746611003756596161566731341666389284259340092071686451734587202193646664713472794665952353280839514373940878869578768789501033178345653514287066340081587910092811900077012442779478054189118608706853641992476017024395285806775111070814423067110416520652929939936130201962616871157293056320763528097941663308796661109677023082692774690168113039696589058078507674594688442368775667700995276213464306721134831989965530345400973893111430551273311836259175757306554293944320000000000000000000000000000000000000000000000000000000000000000000000000000000000000000000000000000000000000000000000,\n",
       "  209611383012576635876856401893914866426066372166774021105107419272349194310311448669690479132859659861580094983785283237190059139356104454480943809268951423737197619921802099702035272489020871300804426419176691976261020700182922928638458739244713639544815723484810878099548639946916348566758540770208501379361588417208280935243119770504600344079531656318416842816431857837438189657323697706428164664883595800546483387661817010631976342923673882077669505282512663645432253105415102629767347026792273289184753448697507194719203574073180686327567596741721911463018048819628257204923103613375586094654287055485186369934351227744501509631699604606237889558290765106772598640145083285151220811060746817836612987177407390236711283138099810105240401010605773792397667328544760431469273644315657274742873944639056325292778468084285440000000000000000000000000000000000000000000000000000000000000000000000000000000000000000000000000000000,\n",
       "  19815524305648002601818171204326257846611456725808373449616646563928629396065410626138298593265945324225558093942704493222553838950820027765375040827960551033001579328411138624055200727234232302046524227142061137986535960488148111891395081467526982493475408477527124840709196781511817187496273890924527108598562553359394406400000000000000000000000000000000000000000000000,\n",
       "  282408462258387108656010655350984421358230615548447917125973819061204087953410675131671734564885871836994857584240516052408604307341165067052618235515335592584915380124888501444241764715270102858062404841105269072530716903612341880567810839552257654493601149492226043075446286770769000253550746729503424973082816170493716827307049254457005433342709751252779561887750731817363130345796960363500671701037989412254276572406991428638655860396457246350737148451362954300400237985662037640867840591473444985051111706915459551705135096581824248890720926775939456276390199877799787488537304338284684150359621520850944000000000000000000000000000000000000000000000000000000000000000000000000000000000,\n",
       "  3969937160808720895401959629498630647790406360168322301129748464310422041758630649341780708631240196854767624444057168110272995649603642560353748940315749184568295424000000000000000000000000000,\n",
       "  1211079010624906224171770242040000913194755344907123328387229208384122199143398983962077168073033852647945203036376445283346314711222230177466494273255728793463071956674839497876987299889729720327479783667584731115257659422804284707863129430806869565563037239578516564219715854442393339376435200000000000000000000000000000000000000000000,\n",
       "  55999397401181624007970525662228881095168659729947683663459568612877337687103244532741481446193158669223111681827099783995223685855991394533857968704451505138207572405603545223305877760386469231760852842439470446554717967072798418218925958492128260636540143129576946167209039675309828823599001441864639500011288693462578636098658615322214400000000000000000000000000000000000000000000000000,\n",
       "  249873185435436430377698987059663362395086628984728391823112288166942630559511819124255704981537449930570629002821280463185334406128048989132838398791636205678208673855202473444935869602342296488442348182529563060454306401874514103425982529680729837954985416328663177512069858595443931833472658803081894351725778122546461871134622081830651613340173985723024483556319497604300800000000000000000000000000000000000000000000000000000,\n",
       "  117295687942641442819215807155131552511541831623044593627324799557544824622696635505477776012587322789677057983246655387237020188804608945581290772992175589402436306154362961985393763847475223716979100487761173428095446685622490578985733324800000000000000000000000000000000000000],\n",
       " [0.3546000000085314,\n",
       "  0.11419999999873198,\n",
       "  0.08530000000916971,\n",
       "  0.030899999998723615,\n",
       "  0.06019999999296033,\n",
       "  0.01679999999737447,\n",
       "  0.027700000003960668,\n",
       "  0.03229999998666244,\n",
       "  0.03749999999058673,\n",
       "  0.022999999998774])"
      ]
     },
     "metadata": {},
     "execution_count": 7
    }
   ],
   "source": [
    "RecrusiveFactorials = FactContainer(arr, RecursiveFact)\n",
    "RecrusiveFactorials"
   ]
  },
  {
   "source": [
    "# B3. Formatting adjustments and equivalency test for loop vs recursive factorial"
   ],
   "cell_type": "markdown",
   "metadata": {}
  },
  {
   "source": [
    "#For the factorials generated these two chunks format the factorials retaining two decimal places and placing them in scientific notation (both for the loop and recursive algorightm)\n",
    "\n",
    "Factorials_R = RecrusiveFactorials[0]\n",
    "SciFacts_R = []\n",
    "for i in Factorials_R:\n",
    "        SciFacts_R.append(f\"{Decimal(str(i)):.2E}\")\n",
    "\n",
    "Factorials_L = LoopFactorials[0]\n",
    "SciFacts_L = []\n",
    "for i in Factorials_L:\n",
    "        SciFacts_L.append(f\"{Decimal(str(i)):.2E}\")\n"
   ],
   "cell_type": "code",
   "metadata": {},
   "execution_count": 8,
   "outputs": []
  },
  {
   "cell_type": "code",
   "execution_count": 9,
   "metadata": {},
   "outputs": [
    {
     "output_type": "execute_result",
     "data": {
      "text/plain": [
       "True"
      ]
     },
     "metadata": {},
     "execution_count": 9
    }
   ],
   "source": [
    "SciFacts_L == SciFacts_R # test for equivalency"
   ]
  },
  {
   "source": [
    "# C Dataframe construction and graphical representation of computation time"
   ],
   "cell_type": "markdown",
   "metadata": {}
  },
  {
   "cell_type": "code",
   "execution_count": 10,
   "metadata": {},
   "outputs": [],
   "source": [
    "Summary = {\n",
    "    'Integer': arr ,\n",
    "    'Factorial': SciFacts_L,\n",
    "    'ForLoop': LoopFactorials[1],\n",
    "    'Recursion': RecrusiveFactorials[1]\n",
    "    }\n",
    "\n",
    "df = pd.DataFrame.from_dict(Summary)\n"
   ]
  },
  {
   "cell_type": "code",
   "execution_count": 11,
   "metadata": {},
   "outputs": [
    {
     "output_type": "execute_result",
     "data": {
      "text/plain": [
       "   Integer   Factorial  ForLoop  Recursion\n",
       "0      465  1.42E+1040   0.0662     0.3546\n",
       "1      482  4.36E+1085   0.0612     0.1142\n",
       "2      422   2.10E+926   0.0490     0.0853\n",
       "3      198   1.98E+370   0.0169     0.0309\n",
       "4      330   2.82E+689   0.0345     0.0602\n",
       "5      117   3.97E+192   0.0092     0.0168\n",
       "6      183   1.21E+336   0.0155     0.0277\n",
       "7      206   5.60E+388   0.0182     0.0323\n",
       "8      223   2.50E+428   0.0211     0.0375\n",
       "9      157   1.17E+278   0.0128     0.0230"
      ],
      "text/html": "<div>\n<style scoped>\n    .dataframe tbody tr th:only-of-type {\n        vertical-align: middle;\n    }\n\n    .dataframe tbody tr th {\n        vertical-align: top;\n    }\n\n    .dataframe thead th {\n        text-align: right;\n    }\n</style>\n<table border=\"1\" class=\"dataframe\">\n  <thead>\n    <tr style=\"text-align: right;\">\n      <th></th>\n      <th>Integer</th>\n      <th>Factorial</th>\n      <th>ForLoop</th>\n      <th>Recursion</th>\n    </tr>\n  </thead>\n  <tbody>\n    <tr>\n      <th>0</th>\n      <td>465</td>\n      <td>1.42E+1040</td>\n      <td>0.0662</td>\n      <td>0.3546</td>\n    </tr>\n    <tr>\n      <th>1</th>\n      <td>482</td>\n      <td>4.36E+1085</td>\n      <td>0.0612</td>\n      <td>0.1142</td>\n    </tr>\n    <tr>\n      <th>2</th>\n      <td>422</td>\n      <td>2.10E+926</td>\n      <td>0.0490</td>\n      <td>0.0853</td>\n    </tr>\n    <tr>\n      <th>3</th>\n      <td>198</td>\n      <td>1.98E+370</td>\n      <td>0.0169</td>\n      <td>0.0309</td>\n    </tr>\n    <tr>\n      <th>4</th>\n      <td>330</td>\n      <td>2.82E+689</td>\n      <td>0.0345</td>\n      <td>0.0602</td>\n    </tr>\n    <tr>\n      <th>5</th>\n      <td>117</td>\n      <td>3.97E+192</td>\n      <td>0.0092</td>\n      <td>0.0168</td>\n    </tr>\n    <tr>\n      <th>6</th>\n      <td>183</td>\n      <td>1.21E+336</td>\n      <td>0.0155</td>\n      <td>0.0277</td>\n    </tr>\n    <tr>\n      <th>7</th>\n      <td>206</td>\n      <td>5.60E+388</td>\n      <td>0.0182</td>\n      <td>0.0323</td>\n    </tr>\n    <tr>\n      <th>8</th>\n      <td>223</td>\n      <td>2.50E+428</td>\n      <td>0.0211</td>\n      <td>0.0375</td>\n    </tr>\n    <tr>\n      <th>9</th>\n      <td>157</td>\n      <td>1.17E+278</td>\n      <td>0.0128</td>\n      <td>0.0230</td>\n    </tr>\n  </tbody>\n</table>\n</div>"
     },
     "metadata": {},
     "execution_count": 11
    }
   ],
   "source": [
    "df"
   ]
  },
  {
   "cell_type": "code",
   "execution_count": 12,
   "metadata": {},
   "outputs": [],
   "source": [
    "df1 = df.drop('Factorial', axis = 1)"
   ]
  },
  {
   "cell_type": "code",
   "execution_count": 13,
   "metadata": {},
   "outputs": [],
   "source": [
    "long_df =  df1.melt(id_vars=['Integer'],\n",
    "                    value_vars=['ForLoop', 'Recursion'],var_name='Algo', value_name='Time(ms)')"
   ]
  },
  {
   "cell_type": "code",
   "execution_count": 14,
   "metadata": {},
   "outputs": [
    {
     "output_type": "execute_result",
     "data": {
      "text/plain": [
       "    Integer       Algo  Time(ms)\n",
       "0       465    ForLoop    0.0662\n",
       "1       482    ForLoop    0.0612\n",
       "2       422    ForLoop    0.0490\n",
       "3       198    ForLoop    0.0169\n",
       "4       330    ForLoop    0.0345\n",
       "5       117    ForLoop    0.0092\n",
       "6       183    ForLoop    0.0155\n",
       "7       206    ForLoop    0.0182\n",
       "8       223    ForLoop    0.0211\n",
       "9       157    ForLoop    0.0128\n",
       "10      465  Recursion    0.3546\n",
       "11      482  Recursion    0.1142\n",
       "12      422  Recursion    0.0853\n",
       "13      198  Recursion    0.0309\n",
       "14      330  Recursion    0.0602\n",
       "15      117  Recursion    0.0168\n",
       "16      183  Recursion    0.0277\n",
       "17      206  Recursion    0.0323\n",
       "18      223  Recursion    0.0375\n",
       "19      157  Recursion    0.0230"
      ],
      "text/html": "<div>\n<style scoped>\n    .dataframe tbody tr th:only-of-type {\n        vertical-align: middle;\n    }\n\n    .dataframe tbody tr th {\n        vertical-align: top;\n    }\n\n    .dataframe thead th {\n        text-align: right;\n    }\n</style>\n<table border=\"1\" class=\"dataframe\">\n  <thead>\n    <tr style=\"text-align: right;\">\n      <th></th>\n      <th>Integer</th>\n      <th>Algo</th>\n      <th>Time(ms)</th>\n    </tr>\n  </thead>\n  <tbody>\n    <tr>\n      <th>0</th>\n      <td>465</td>\n      <td>ForLoop</td>\n      <td>0.0662</td>\n    </tr>\n    <tr>\n      <th>1</th>\n      <td>482</td>\n      <td>ForLoop</td>\n      <td>0.0612</td>\n    </tr>\n    <tr>\n      <th>2</th>\n      <td>422</td>\n      <td>ForLoop</td>\n      <td>0.0490</td>\n    </tr>\n    <tr>\n      <th>3</th>\n      <td>198</td>\n      <td>ForLoop</td>\n      <td>0.0169</td>\n    </tr>\n    <tr>\n      <th>4</th>\n      <td>330</td>\n      <td>ForLoop</td>\n      <td>0.0345</td>\n    </tr>\n    <tr>\n      <th>5</th>\n      <td>117</td>\n      <td>ForLoop</td>\n      <td>0.0092</td>\n    </tr>\n    <tr>\n      <th>6</th>\n      <td>183</td>\n      <td>ForLoop</td>\n      <td>0.0155</td>\n    </tr>\n    <tr>\n      <th>7</th>\n      <td>206</td>\n      <td>ForLoop</td>\n      <td>0.0182</td>\n    </tr>\n    <tr>\n      <th>8</th>\n      <td>223</td>\n      <td>ForLoop</td>\n      <td>0.0211</td>\n    </tr>\n    <tr>\n      <th>9</th>\n      <td>157</td>\n      <td>ForLoop</td>\n      <td>0.0128</td>\n    </tr>\n    <tr>\n      <th>10</th>\n      <td>465</td>\n      <td>Recursion</td>\n      <td>0.3546</td>\n    </tr>\n    <tr>\n      <th>11</th>\n      <td>482</td>\n      <td>Recursion</td>\n      <td>0.1142</td>\n    </tr>\n    <tr>\n      <th>12</th>\n      <td>422</td>\n      <td>Recursion</td>\n      <td>0.0853</td>\n    </tr>\n    <tr>\n      <th>13</th>\n      <td>198</td>\n      <td>Recursion</td>\n      <td>0.0309</td>\n    </tr>\n    <tr>\n      <th>14</th>\n      <td>330</td>\n      <td>Recursion</td>\n      <td>0.0602</td>\n    </tr>\n    <tr>\n      <th>15</th>\n      <td>117</td>\n      <td>Recursion</td>\n      <td>0.0168</td>\n    </tr>\n    <tr>\n      <th>16</th>\n      <td>183</td>\n      <td>Recursion</td>\n      <td>0.0277</td>\n    </tr>\n    <tr>\n      <th>17</th>\n      <td>206</td>\n      <td>Recursion</td>\n      <td>0.0323</td>\n    </tr>\n    <tr>\n      <th>18</th>\n      <td>223</td>\n      <td>Recursion</td>\n      <td>0.0375</td>\n    </tr>\n    <tr>\n      <th>19</th>\n      <td>157</td>\n      <td>Recursion</td>\n      <td>0.0230</td>\n    </tr>\n  </tbody>\n</table>\n</div>"
     },
     "metadata": {},
     "execution_count": 14
    }
   ],
   "source": [
    "long_df"
   ]
  },
  {
   "cell_type": "code",
   "execution_count": 15,
   "metadata": {},
   "outputs": [
    {
     "output_type": "execute_result",
     "data": {
      "text/plain": [
       "<AxesSubplot:xlabel='Integer', ylabel='Time(ms)'>"
      ]
     },
     "metadata": {},
     "execution_count": 15
    },
    {
     "output_type": "display_data",
     "data": {
      "text/plain": "<Figure size 432x288 with 1 Axes>",
      "image/svg+xml": "<?xml version=\"1.0\" encoding=\"utf-8\" standalone=\"no\"?>\r\n<!DOCTYPE svg PUBLIC \"-//W3C//DTD SVG 1.1//EN\"\r\n  \"http://www.w3.org/Graphics/SVG/1.1/DTD/svg11.dtd\">\r\n<!-- Created with matplotlib (https://matplotlib.org/) -->\r\n<svg height=\"262.19625pt\" version=\"1.1\" viewBox=\"0 0 401.479032 262.19625\" width=\"401.479032pt\" xmlns=\"http://www.w3.org/2000/svg\" xmlns:xlink=\"http://www.w3.org/1999/xlink\">\r\n <metadata>\r\n  <rdf:RDF xmlns:cc=\"http://creativecommons.org/ns#\" xmlns:dc=\"http://purl.org/dc/elements/1.1/\" xmlns:rdf=\"http://www.w3.org/1999/02/22-rdf-syntax-ns#\">\r\n   <cc:Work>\r\n    <dc:type rdf:resource=\"http://purl.org/dc/dcmitype/StillImage\"/>\r\n    <dc:date>2021-04-15T23:31:48.453235</dc:date>\r\n    <dc:format>image/svg+xml</dc:format>\r\n    <dc:creator>\r\n     <cc:Agent>\r\n      <dc:title>Matplotlib v3.3.2, https://matplotlib.org/</dc:title>\r\n     </cc:Agent>\r\n    </dc:creator>\r\n   </cc:Work>\r\n  </rdf:RDF>\r\n </metadata>\r\n <defs>\r\n  <style type=\"text/css\">*{stroke-linecap:butt;stroke-linejoin:round;}</style>\r\n </defs>\r\n <g id=\"figure_1\">\r\n  <g id=\"patch_1\">\r\n   <path d=\"M 0 262.19625 \r\nL 401.479032 262.19625 \r\nL 401.479032 0 \r\nL 0 0 \r\nz\r\n\" style=\"fill:none;\"/>\r\n  </g>\r\n  <g id=\"axes_1\">\r\n   <g id=\"patch_2\">\r\n    <path d=\"M 50.14375 224.64 \r\nL 384.94375 224.64 \r\nL 384.94375 7.2 \r\nL 50.14375 7.2 \r\nz\r\n\" style=\"fill:#ffffff;\"/>\r\n   </g>\r\n   <g id=\"PathCollection_1\">\r\n    <defs>\r\n     <path d=\"M 0 5 \r\nC 1.326016 5 2.597899 4.473168 3.535534 3.535534 \r\nC 4.473168 2.597899 5 1.326016 5 -0 \r\nC 5 -1.326016 4.473168 -2.597899 3.535534 -3.535534 \r\nC 2.597899 -4.473168 1.326016 -5 0 -5 \r\nC -1.326016 -5 -2.597899 -4.473168 -3.535534 -3.535534 \r\nC -4.473168 -2.597899 -5 -1.326016 -5 0 \r\nC -5 1.326016 -4.473168 2.597899 -3.535534 3.535534 \r\nC -2.597899 4.473168 -1.326016 5 0 5 \r\nz\r\n\" id=\"C0_0_5f25d87340\"/>\r\n    </defs>\r\n    <g clip-path=\"url(#pf29529f4ef)\">\r\n     <use style=\"fill:#1f77b4;stroke:#ffffff;stroke-width:0.8;\" x=\"355.549728\" xlink:href=\"#C0_0_5f25d87340\" y=\"182.135213\"/>\r\n    </g>\r\n    <g clip-path=\"url(#pf29529f4ef)\">\r\n     <use style=\"fill:#1f77b4;stroke:#ffffff;stroke-width:0.8;\" x=\"369.725568\" xlink:href=\"#C0_0_5f25d87340\" y=\"184.996717\"/>\r\n    </g>\r\n    <g clip-path=\"url(#pf29529f4ef)\">\r\n     <use style=\"fill:#1f77b4;stroke:#ffffff;stroke-width:0.8;\" x=\"319.69319\" xlink:href=\"#C0_0_5f25d87340\" y=\"191.978788\"/>\r\n    </g>\r\n    <g clip-path=\"url(#pf29529f4ef)\">\r\n     <use style=\"fill:#1f77b4;stroke:#ffffff;stroke-width:0.8;\" x=\"132.905643\" xlink:href=\"#C0_0_5f25d87340\" y=\"210.349647\"/>\r\n    </g>\r\n    <g clip-path=\"url(#pf29529f4ef)\">\r\n     <use style=\"fill:#1f77b4;stroke:#ffffff;stroke-width:0.8;\" x=\"242.976876\" xlink:href=\"#C0_0_5f25d87340\" y=\"200.277151\"/>\r\n    </g>\r\n    <g clip-path=\"url(#pf29529f4ef)\">\r\n     <use style=\"fill:#1f77b4;stroke:#ffffff;stroke-width:0.8;\" x=\"65.361932\" xlink:href=\"#C0_0_5f25d87340\" y=\"214.756364\"/>\r\n    </g>\r\n    <g clip-path=\"url(#pf29529f4ef)\">\r\n     <use style=\"fill:#1f77b4;stroke:#ffffff;stroke-width:0.8;\" x=\"120.397548\" xlink:href=\"#C0_0_5f25d87340\" y=\"211.150868\"/>\r\n    </g>\r\n    <g clip-path=\"url(#pf29529f4ef)\">\r\n     <use style=\"fill:#1f77b4;stroke:#ffffff;stroke-width:0.8;\" x=\"139.576627\" xlink:href=\"#C0_0_5f25d87340\" y=\"209.605656\"/>\r\n    </g>\r\n    <g clip-path=\"url(#pf29529f4ef)\">\r\n     <use style=\"fill:#1f77b4;stroke:#ffffff;stroke-width:0.8;\" x=\"153.752467\" xlink:href=\"#C0_0_5f25d87340\" y=\"207.945983\"/>\r\n    </g>\r\n    <g clip-path=\"url(#pf29529f4ef)\">\r\n     <use style=\"fill:#1f77b4;stroke:#ffffff;stroke-width:0.8;\" x=\"98.716851\" xlink:href=\"#C0_0_5f25d87340\" y=\"212.69608\"/>\r\n    </g>\r\n    <g clip-path=\"url(#pf29529f4ef)\">\r\n     <use style=\"fill:#ff7f0e;stroke:#ffffff;stroke-width:0.8;\" x=\"355.549728\" xlink:href=\"#C0_0_5f25d87340\" y=\"17.083636\"/>\r\n    </g>\r\n    <g clip-path=\"url(#pf29529f4ef)\">\r\n     <use style=\"fill:#ff7f0e;stroke:#ffffff;stroke-width:0.8;\" x=\"369.725568\" xlink:href=\"#C0_0_5f25d87340\" y=\"154.66477\"/>\r\n    </g>\r\n    <g clip-path=\"url(#pf29529f4ef)\">\r\n     <use style=\"fill:#ff7f0e;stroke:#ffffff;stroke-width:0.8;\" x=\"319.69319\" xlink:href=\"#C0_0_5f25d87340\" y=\"171.204266\"/>\r\n    </g>\r\n    <g clip-path=\"url(#pf29529f4ef)\">\r\n     <use style=\"fill:#ff7f0e;stroke:#ffffff;stroke-width:0.8;\" x=\"132.905643\" xlink:href=\"#C0_0_5f25d87340\" y=\"202.337434\"/>\r\n    </g>\r\n    <g clip-path=\"url(#pf29529f4ef)\">\r\n     <use style=\"fill:#ff7f0e;stroke:#ffffff;stroke-width:0.8;\" x=\"242.976876\" xlink:href=\"#C0_0_5f25d87340\" y=\"185.569018\"/>\r\n    </g>\r\n    <g clip-path=\"url(#pf29529f4ef)\">\r\n     <use style=\"fill:#ff7f0e;stroke:#ffffff;stroke-width:0.8;\" x=\"65.361932\" xlink:href=\"#C0_0_5f25d87340\" y=\"210.406877\"/>\r\n    </g>\r\n    <g clip-path=\"url(#pf29529f4ef)\">\r\n     <use style=\"fill:#ff7f0e;stroke:#ffffff;stroke-width:0.8;\" x=\"120.397548\" xlink:href=\"#C0_0_5f25d87340\" y=\"204.168797\"/>\r\n    </g>\r\n    <g clip-path=\"url(#pf29529f4ef)\">\r\n     <use style=\"fill:#ff7f0e;stroke:#ffffff;stroke-width:0.8;\" x=\"139.576627\" xlink:href=\"#C0_0_5f25d87340\" y=\"201.536213\"/>\r\n    </g>\r\n    <g clip-path=\"url(#pf29529f4ef)\">\r\n     <use style=\"fill:#ff7f0e;stroke:#ffffff;stroke-width:0.8;\" x=\"153.752467\" xlink:href=\"#C0_0_5f25d87340\" y=\"198.560248\"/>\r\n    </g>\r\n    <g clip-path=\"url(#pf29529f4ef)\">\r\n     <use style=\"fill:#ff7f0e;stroke:#ffffff;stroke-width:0.8;\" x=\"98.716851\" xlink:href=\"#C0_0_5f25d87340\" y=\"206.858611\"/>\r\n    </g>\r\n   </g>\r\n   <g id=\"PathCollection_2\"/>\r\n   <g id=\"PathCollection_3\"/>\r\n   <g id=\"matplotlib.axis_1\">\r\n    <g id=\"xtick_1\">\r\n     <g id=\"line2d_1\">\r\n      <defs>\r\n       <path d=\"M 0 0 \r\nL 0 3.5 \r\n\" id=\"m02dfd50b1f\" style=\"stroke:#000000;stroke-width:0.8;\"/>\r\n      </defs>\r\n      <g>\r\n       <use style=\"stroke:#000000;stroke-width:0.8;\" x=\"51.186091\" xlink:href=\"#m02dfd50b1f\" y=\"224.64\"/>\r\n      </g>\r\n     </g>\r\n     <g id=\"text_1\">\r\n      <!-- 100 -->\r\n      <g transform=\"translate(41.642341 239.238437)scale(0.1 -0.1)\">\r\n       <defs>\r\n        <path d=\"M 12.40625 8.296875 \r\nL 28.515625 8.296875 \r\nL 28.515625 63.921875 \r\nL 10.984375 60.40625 \r\nL 10.984375 69.390625 \r\nL 28.421875 72.90625 \r\nL 38.28125 72.90625 \r\nL 38.28125 8.296875 \r\nL 54.390625 8.296875 \r\nL 54.390625 0 \r\nL 12.40625 0 \r\nz\r\n\" id=\"DejaVuSans-49\"/>\r\n        <path d=\"M 31.78125 66.40625 \r\nQ 24.171875 66.40625 20.328125 58.90625 \r\nQ 16.5 51.421875 16.5 36.375 \r\nQ 16.5 21.390625 20.328125 13.890625 \r\nQ 24.171875 6.390625 31.78125 6.390625 \r\nQ 39.453125 6.390625 43.28125 13.890625 \r\nQ 47.125 21.390625 47.125 36.375 \r\nQ 47.125 51.421875 43.28125 58.90625 \r\nQ 39.453125 66.40625 31.78125 66.40625 \r\nz\r\nM 31.78125 74.21875 \r\nQ 44.046875 74.21875 50.515625 64.515625 \r\nQ 56.984375 54.828125 56.984375 36.375 \r\nQ 56.984375 17.96875 50.515625 8.265625 \r\nQ 44.046875 -1.421875 31.78125 -1.421875 \r\nQ 19.53125 -1.421875 13.0625 8.265625 \r\nQ 6.59375 17.96875 6.59375 36.375 \r\nQ 6.59375 54.828125 13.0625 64.515625 \r\nQ 19.53125 74.21875 31.78125 74.21875 \r\nz\r\n\" id=\"DejaVuSans-48\"/>\r\n       </defs>\r\n       <use xlink:href=\"#DejaVuSans-49\"/>\r\n       <use x=\"63.623047\" xlink:href=\"#DejaVuSans-48\"/>\r\n       <use x=\"127.246094\" xlink:href=\"#DejaVuSans-48\"/>\r\n      </g>\r\n     </g>\r\n    </g>\r\n    <g id=\"xtick_2\">\r\n     <g id=\"line2d_2\">\r\n      <g>\r\n       <use style=\"stroke:#000000;stroke-width:0.8;\" x=\"92.87974\" xlink:href=\"#m02dfd50b1f\" y=\"224.64\"/>\r\n      </g>\r\n     </g>\r\n     <g id=\"text_2\">\r\n      <!-- 150 -->\r\n      <g transform=\"translate(83.33599 239.238437)scale(0.1 -0.1)\">\r\n       <defs>\r\n        <path d=\"M 10.796875 72.90625 \r\nL 49.515625 72.90625 \r\nL 49.515625 64.59375 \r\nL 19.828125 64.59375 \r\nL 19.828125 46.734375 \r\nQ 21.96875 47.46875 24.109375 47.828125 \r\nQ 26.265625 48.1875 28.421875 48.1875 \r\nQ 40.625 48.1875 47.75 41.5 \r\nQ 54.890625 34.8125 54.890625 23.390625 \r\nQ 54.890625 11.625 47.5625 5.09375 \r\nQ 40.234375 -1.421875 26.90625 -1.421875 \r\nQ 22.3125 -1.421875 17.546875 -0.640625 \r\nQ 12.796875 0.140625 7.71875 1.703125 \r\nL 7.71875 11.625 \r\nQ 12.109375 9.234375 16.796875 8.0625 \r\nQ 21.484375 6.890625 26.703125 6.890625 \r\nQ 35.15625 6.890625 40.078125 11.328125 \r\nQ 45.015625 15.765625 45.015625 23.390625 \r\nQ 45.015625 31 40.078125 35.4375 \r\nQ 35.15625 39.890625 26.703125 39.890625 \r\nQ 22.75 39.890625 18.8125 39.015625 \r\nQ 14.890625 38.140625 10.796875 36.28125 \r\nz\r\n\" id=\"DejaVuSans-53\"/>\r\n       </defs>\r\n       <use xlink:href=\"#DejaVuSans-49\"/>\r\n       <use x=\"63.623047\" xlink:href=\"#DejaVuSans-53\"/>\r\n       <use x=\"127.246094\" xlink:href=\"#DejaVuSans-48\"/>\r\n      </g>\r\n     </g>\r\n    </g>\r\n    <g id=\"xtick_3\">\r\n     <g id=\"line2d_3\">\r\n      <g>\r\n       <use style=\"stroke:#000000;stroke-width:0.8;\" x=\"134.573389\" xlink:href=\"#m02dfd50b1f\" y=\"224.64\"/>\r\n      </g>\r\n     </g>\r\n     <g id=\"text_3\">\r\n      <!-- 200 -->\r\n      <g transform=\"translate(125.029639 239.238437)scale(0.1 -0.1)\">\r\n       <defs>\r\n        <path d=\"M 19.1875 8.296875 \r\nL 53.609375 8.296875 \r\nL 53.609375 0 \r\nL 7.328125 0 \r\nL 7.328125 8.296875 \r\nQ 12.9375 14.109375 22.625 23.890625 \r\nQ 32.328125 33.6875 34.8125 36.53125 \r\nQ 39.546875 41.84375 41.421875 45.53125 \r\nQ 43.3125 49.21875 43.3125 52.78125 \r\nQ 43.3125 58.59375 39.234375 62.25 \r\nQ 35.15625 65.921875 28.609375 65.921875 \r\nQ 23.96875 65.921875 18.8125 64.3125 \r\nQ 13.671875 62.703125 7.8125 59.421875 \r\nL 7.8125 69.390625 \r\nQ 13.765625 71.78125 18.9375 73 \r\nQ 24.125 74.21875 28.421875 74.21875 \r\nQ 39.75 74.21875 46.484375 68.546875 \r\nQ 53.21875 62.890625 53.21875 53.421875 \r\nQ 53.21875 48.921875 51.53125 44.890625 \r\nQ 49.859375 40.875 45.40625 35.40625 \r\nQ 44.1875 33.984375 37.640625 27.21875 \r\nQ 31.109375 20.453125 19.1875 8.296875 \r\nz\r\n\" id=\"DejaVuSans-50\"/>\r\n       </defs>\r\n       <use xlink:href=\"#DejaVuSans-50\"/>\r\n       <use x=\"63.623047\" xlink:href=\"#DejaVuSans-48\"/>\r\n       <use x=\"127.246094\" xlink:href=\"#DejaVuSans-48\"/>\r\n      </g>\r\n     </g>\r\n    </g>\r\n    <g id=\"xtick_4\">\r\n     <g id=\"line2d_4\">\r\n      <g>\r\n       <use style=\"stroke:#000000;stroke-width:0.8;\" x=\"176.267038\" xlink:href=\"#m02dfd50b1f\" y=\"224.64\"/>\r\n      </g>\r\n     </g>\r\n     <g id=\"text_4\">\r\n      <!-- 250 -->\r\n      <g transform=\"translate(166.723288 239.238437)scale(0.1 -0.1)\">\r\n       <use xlink:href=\"#DejaVuSans-50\"/>\r\n       <use x=\"63.623047\" xlink:href=\"#DejaVuSans-53\"/>\r\n       <use x=\"127.246094\" xlink:href=\"#DejaVuSans-48\"/>\r\n      </g>\r\n     </g>\r\n    </g>\r\n    <g id=\"xtick_5\">\r\n     <g id=\"line2d_5\">\r\n      <g>\r\n       <use style=\"stroke:#000000;stroke-width:0.8;\" x=\"217.960686\" xlink:href=\"#m02dfd50b1f\" y=\"224.64\"/>\r\n      </g>\r\n     </g>\r\n     <g id=\"text_5\">\r\n      <!-- 300 -->\r\n      <g transform=\"translate(208.416936 239.238437)scale(0.1 -0.1)\">\r\n       <defs>\r\n        <path d=\"M 40.578125 39.3125 \r\nQ 47.65625 37.796875 51.625 33 \r\nQ 55.609375 28.21875 55.609375 21.1875 \r\nQ 55.609375 10.40625 48.1875 4.484375 \r\nQ 40.765625 -1.421875 27.09375 -1.421875 \r\nQ 22.515625 -1.421875 17.65625 -0.515625 \r\nQ 12.796875 0.390625 7.625 2.203125 \r\nL 7.625 11.71875 \r\nQ 11.71875 9.328125 16.59375 8.109375 \r\nQ 21.484375 6.890625 26.8125 6.890625 \r\nQ 36.078125 6.890625 40.9375 10.546875 \r\nQ 45.796875 14.203125 45.796875 21.1875 \r\nQ 45.796875 27.640625 41.28125 31.265625 \r\nQ 36.765625 34.90625 28.71875 34.90625 \r\nL 20.21875 34.90625 \r\nL 20.21875 43.015625 \r\nL 29.109375 43.015625 \r\nQ 36.375 43.015625 40.234375 45.921875 \r\nQ 44.09375 48.828125 44.09375 54.296875 \r\nQ 44.09375 59.90625 40.109375 62.90625 \r\nQ 36.140625 65.921875 28.71875 65.921875 \r\nQ 24.65625 65.921875 20.015625 65.03125 \r\nQ 15.375 64.15625 9.8125 62.3125 \r\nL 9.8125 71.09375 \r\nQ 15.4375 72.65625 20.34375 73.4375 \r\nQ 25.25 74.21875 29.59375 74.21875 \r\nQ 40.828125 74.21875 47.359375 69.109375 \r\nQ 53.90625 64.015625 53.90625 55.328125 \r\nQ 53.90625 49.265625 50.4375 45.09375 \r\nQ 46.96875 40.921875 40.578125 39.3125 \r\nz\r\n\" id=\"DejaVuSans-51\"/>\r\n       </defs>\r\n       <use xlink:href=\"#DejaVuSans-51\"/>\r\n       <use x=\"63.623047\" xlink:href=\"#DejaVuSans-48\"/>\r\n       <use x=\"127.246094\" xlink:href=\"#DejaVuSans-48\"/>\r\n      </g>\r\n     </g>\r\n    </g>\r\n    <g id=\"xtick_6\">\r\n     <g id=\"line2d_6\">\r\n      <g>\r\n       <use style=\"stroke:#000000;stroke-width:0.8;\" x=\"259.654335\" xlink:href=\"#m02dfd50b1f\" y=\"224.64\"/>\r\n      </g>\r\n     </g>\r\n     <g id=\"text_6\">\r\n      <!-- 350 -->\r\n      <g transform=\"translate(250.110585 239.238437)scale(0.1 -0.1)\">\r\n       <use xlink:href=\"#DejaVuSans-51\"/>\r\n       <use x=\"63.623047\" xlink:href=\"#DejaVuSans-53\"/>\r\n       <use x=\"127.246094\" xlink:href=\"#DejaVuSans-48\"/>\r\n      </g>\r\n     </g>\r\n    </g>\r\n    <g id=\"xtick_7\">\r\n     <g id=\"line2d_7\">\r\n      <g>\r\n       <use style=\"stroke:#000000;stroke-width:0.8;\" x=\"301.347984\" xlink:href=\"#m02dfd50b1f\" y=\"224.64\"/>\r\n      </g>\r\n     </g>\r\n     <g id=\"text_7\">\r\n      <!-- 400 -->\r\n      <g transform=\"translate(291.804234 239.238437)scale(0.1 -0.1)\">\r\n       <defs>\r\n        <path d=\"M 37.796875 64.3125 \r\nL 12.890625 25.390625 \r\nL 37.796875 25.390625 \r\nz\r\nM 35.203125 72.90625 \r\nL 47.609375 72.90625 \r\nL 47.609375 25.390625 \r\nL 58.015625 25.390625 \r\nL 58.015625 17.1875 \r\nL 47.609375 17.1875 \r\nL 47.609375 0 \r\nL 37.796875 0 \r\nL 37.796875 17.1875 \r\nL 4.890625 17.1875 \r\nL 4.890625 26.703125 \r\nz\r\n\" id=\"DejaVuSans-52\"/>\r\n       </defs>\r\n       <use xlink:href=\"#DejaVuSans-52\"/>\r\n       <use x=\"63.623047\" xlink:href=\"#DejaVuSans-48\"/>\r\n       <use x=\"127.246094\" xlink:href=\"#DejaVuSans-48\"/>\r\n      </g>\r\n     </g>\r\n    </g>\r\n    <g id=\"xtick_8\">\r\n     <g id=\"line2d_8\">\r\n      <g>\r\n       <use style=\"stroke:#000000;stroke-width:0.8;\" x=\"343.041633\" xlink:href=\"#m02dfd50b1f\" y=\"224.64\"/>\r\n      </g>\r\n     </g>\r\n     <g id=\"text_8\">\r\n      <!-- 450 -->\r\n      <g transform=\"translate(333.497883 239.238437)scale(0.1 -0.1)\">\r\n       <use xlink:href=\"#DejaVuSans-52\"/>\r\n       <use x=\"63.623047\" xlink:href=\"#DejaVuSans-53\"/>\r\n       <use x=\"127.246094\" xlink:href=\"#DejaVuSans-48\"/>\r\n      </g>\r\n     </g>\r\n    </g>\r\n    <g id=\"xtick_9\">\r\n     <g id=\"line2d_9\">\r\n      <g>\r\n       <use style=\"stroke:#000000;stroke-width:0.8;\" x=\"384.735282\" xlink:href=\"#m02dfd50b1f\" y=\"224.64\"/>\r\n      </g>\r\n     </g>\r\n     <g id=\"text_9\">\r\n      <!-- 500 -->\r\n      <g transform=\"translate(375.191532 239.238437)scale(0.1 -0.1)\">\r\n       <use xlink:href=\"#DejaVuSans-53\"/>\r\n       <use x=\"63.623047\" xlink:href=\"#DejaVuSans-48\"/>\r\n       <use x=\"127.246094\" xlink:href=\"#DejaVuSans-48\"/>\r\n      </g>\r\n     </g>\r\n    </g>\r\n    <g id=\"text_10\">\r\n     <!-- Integer -->\r\n     <g transform=\"translate(199.557031 252.916562)scale(0.1 -0.1)\">\r\n      <defs>\r\n       <path d=\"M 9.8125 72.90625 \r\nL 19.671875 72.90625 \r\nL 19.671875 0 \r\nL 9.8125 0 \r\nz\r\n\" id=\"DejaVuSans-73\"/>\r\n       <path d=\"M 54.890625 33.015625 \r\nL 54.890625 0 \r\nL 45.90625 0 \r\nL 45.90625 32.71875 \r\nQ 45.90625 40.484375 42.875 44.328125 \r\nQ 39.84375 48.1875 33.796875 48.1875 \r\nQ 26.515625 48.1875 22.3125 43.546875 \r\nQ 18.109375 38.921875 18.109375 30.90625 \r\nL 18.109375 0 \r\nL 9.078125 0 \r\nL 9.078125 54.6875 \r\nL 18.109375 54.6875 \r\nL 18.109375 46.1875 \r\nQ 21.34375 51.125 25.703125 53.5625 \r\nQ 30.078125 56 35.796875 56 \r\nQ 45.21875 56 50.046875 50.171875 \r\nQ 54.890625 44.34375 54.890625 33.015625 \r\nz\r\n\" id=\"DejaVuSans-110\"/>\r\n       <path d=\"M 18.3125 70.21875 \r\nL 18.3125 54.6875 \r\nL 36.8125 54.6875 \r\nL 36.8125 47.703125 \r\nL 18.3125 47.703125 \r\nL 18.3125 18.015625 \r\nQ 18.3125 11.328125 20.140625 9.421875 \r\nQ 21.96875 7.515625 27.59375 7.515625 \r\nL 36.8125 7.515625 \r\nL 36.8125 0 \r\nL 27.59375 0 \r\nQ 17.1875 0 13.234375 3.875 \r\nQ 9.28125 7.765625 9.28125 18.015625 \r\nL 9.28125 47.703125 \r\nL 2.6875 47.703125 \r\nL 2.6875 54.6875 \r\nL 9.28125 54.6875 \r\nL 9.28125 70.21875 \r\nz\r\n\" id=\"DejaVuSans-116\"/>\r\n       <path d=\"M 56.203125 29.59375 \r\nL 56.203125 25.203125 \r\nL 14.890625 25.203125 \r\nQ 15.484375 15.921875 20.484375 11.0625 \r\nQ 25.484375 6.203125 34.421875 6.203125 \r\nQ 39.59375 6.203125 44.453125 7.46875 \r\nQ 49.3125 8.734375 54.109375 11.28125 \r\nL 54.109375 2.78125 \r\nQ 49.265625 0.734375 44.1875 -0.34375 \r\nQ 39.109375 -1.421875 33.890625 -1.421875 \r\nQ 20.796875 -1.421875 13.15625 6.1875 \r\nQ 5.515625 13.8125 5.515625 26.8125 \r\nQ 5.515625 40.234375 12.765625 48.109375 \r\nQ 20.015625 56 32.328125 56 \r\nQ 43.359375 56 49.78125 48.890625 \r\nQ 56.203125 41.796875 56.203125 29.59375 \r\nz\r\nM 47.21875 32.234375 \r\nQ 47.125 39.59375 43.09375 43.984375 \r\nQ 39.0625 48.390625 32.421875 48.390625 \r\nQ 24.90625 48.390625 20.390625 44.140625 \r\nQ 15.875 39.890625 15.1875 32.171875 \r\nz\r\n\" id=\"DejaVuSans-101\"/>\r\n       <path d=\"M 45.40625 27.984375 \r\nQ 45.40625 37.75 41.375 43.109375 \r\nQ 37.359375 48.484375 30.078125 48.484375 \r\nQ 22.859375 48.484375 18.828125 43.109375 \r\nQ 14.796875 37.75 14.796875 27.984375 \r\nQ 14.796875 18.265625 18.828125 12.890625 \r\nQ 22.859375 7.515625 30.078125 7.515625 \r\nQ 37.359375 7.515625 41.375 12.890625 \r\nQ 45.40625 18.265625 45.40625 27.984375 \r\nz\r\nM 54.390625 6.78125 \r\nQ 54.390625 -7.171875 48.1875 -13.984375 \r\nQ 42 -20.796875 29.203125 -20.796875 \r\nQ 24.46875 -20.796875 20.265625 -20.09375 \r\nQ 16.0625 -19.390625 12.109375 -17.921875 \r\nL 12.109375 -9.1875 \r\nQ 16.0625 -11.328125 19.921875 -12.34375 \r\nQ 23.78125 -13.375 27.78125 -13.375 \r\nQ 36.625 -13.375 41.015625 -8.765625 \r\nQ 45.40625 -4.15625 45.40625 5.171875 \r\nL 45.40625 9.625 \r\nQ 42.625 4.78125 38.28125 2.390625 \r\nQ 33.9375 0 27.875 0 \r\nQ 17.828125 0 11.671875 7.65625 \r\nQ 5.515625 15.328125 5.515625 27.984375 \r\nQ 5.515625 40.671875 11.671875 48.328125 \r\nQ 17.828125 56 27.875 56 \r\nQ 33.9375 56 38.28125 53.609375 \r\nQ 42.625 51.21875 45.40625 46.390625 \r\nL 45.40625 54.6875 \r\nL 54.390625 54.6875 \r\nz\r\n\" id=\"DejaVuSans-103\"/>\r\n       <path d=\"M 41.109375 46.296875 \r\nQ 39.59375 47.171875 37.8125 47.578125 \r\nQ 36.03125 48 33.890625 48 \r\nQ 26.265625 48 22.1875 43.046875 \r\nQ 18.109375 38.09375 18.109375 28.8125 \r\nL 18.109375 0 \r\nL 9.078125 0 \r\nL 9.078125 54.6875 \r\nL 18.109375 54.6875 \r\nL 18.109375 46.1875 \r\nQ 20.953125 51.171875 25.484375 53.578125 \r\nQ 30.03125 56 36.53125 56 \r\nQ 37.453125 56 38.578125 55.875 \r\nQ 39.703125 55.765625 41.0625 55.515625 \r\nz\r\n\" id=\"DejaVuSans-114\"/>\r\n      </defs>\r\n      <use xlink:href=\"#DejaVuSans-73\"/>\r\n      <use x=\"29.492188\" xlink:href=\"#DejaVuSans-110\"/>\r\n      <use x=\"92.871094\" xlink:href=\"#DejaVuSans-116\"/>\r\n      <use x=\"132.080078\" xlink:href=\"#DejaVuSans-101\"/>\r\n      <use x=\"193.603516\" xlink:href=\"#DejaVuSans-103\"/>\r\n      <use x=\"257.080078\" xlink:href=\"#DejaVuSans-101\"/>\r\n      <use x=\"318.603516\" xlink:href=\"#DejaVuSans-114\"/>\r\n     </g>\r\n    </g>\r\n   </g>\r\n   <g id=\"matplotlib.axis_2\">\r\n    <g id=\"ytick_1\">\r\n     <g id=\"line2d_10\">\r\n      <defs>\r\n       <path d=\"M 0 0 \r\nL -3.5 0 \r\n\" id=\"m7ad61d887b\" style=\"stroke:#000000;stroke-width:0.8;\"/>\r\n      </defs>\r\n      <g>\r\n       <use style=\"stroke:#000000;stroke-width:0.8;\" x=\"50.14375\" xlink:href=\"#m7ad61d887b\" y=\"220.021532\"/>\r\n      </g>\r\n     </g>\r\n     <g id=\"text_11\">\r\n      <!-- 0.00 -->\r\n      <g transform=\"translate(20.878125 223.820751)scale(0.1 -0.1)\">\r\n       <defs>\r\n        <path d=\"M 10.6875 12.40625 \r\nL 21 12.40625 \r\nL 21 0 \r\nL 10.6875 0 \r\nz\r\n\" id=\"DejaVuSans-46\"/>\r\n       </defs>\r\n       <use xlink:href=\"#DejaVuSans-48\"/>\r\n       <use x=\"63.623047\" xlink:href=\"#DejaVuSans-46\"/>\r\n       <use x=\"95.410156\" xlink:href=\"#DejaVuSans-48\"/>\r\n       <use x=\"159.033203\" xlink:href=\"#DejaVuSans-48\"/>\r\n      </g>\r\n     </g>\r\n    </g>\r\n    <g id=\"ytick_2\">\r\n     <g id=\"line2d_11\">\r\n      <g>\r\n       <use style=\"stroke:#000000;stroke-width:0.8;\" x=\"50.14375\" xlink:href=\"#m7ad61d887b\" y=\"191.406487\"/>\r\n      </g>\r\n     </g>\r\n     <g id=\"text_12\">\r\n      <!-- 0.05 -->\r\n      <g transform=\"translate(20.878125 195.205706)scale(0.1 -0.1)\">\r\n       <use xlink:href=\"#DejaVuSans-48\"/>\r\n       <use x=\"63.623047\" xlink:href=\"#DejaVuSans-46\"/>\r\n       <use x=\"95.410156\" xlink:href=\"#DejaVuSans-48\"/>\r\n       <use x=\"159.033203\" xlink:href=\"#DejaVuSans-53\"/>\r\n      </g>\r\n     </g>\r\n    </g>\r\n    <g id=\"ytick_3\">\r\n     <g id=\"line2d_12\">\r\n      <g>\r\n       <use style=\"stroke:#000000;stroke-width:0.8;\" x=\"50.14375\" xlink:href=\"#m7ad61d887b\" y=\"162.791443\"/>\r\n      </g>\r\n     </g>\r\n     <g id=\"text_13\">\r\n      <!-- 0.10 -->\r\n      <g transform=\"translate(20.878125 166.590662)scale(0.1 -0.1)\">\r\n       <use xlink:href=\"#DejaVuSans-48\"/>\r\n       <use x=\"63.623047\" xlink:href=\"#DejaVuSans-46\"/>\r\n       <use x=\"95.410156\" xlink:href=\"#DejaVuSans-49\"/>\r\n       <use x=\"159.033203\" xlink:href=\"#DejaVuSans-48\"/>\r\n      </g>\r\n     </g>\r\n    </g>\r\n    <g id=\"ytick_4\">\r\n     <g id=\"line2d_13\">\r\n      <g>\r\n       <use style=\"stroke:#000000;stroke-width:0.8;\" x=\"50.14375\" xlink:href=\"#m7ad61d887b\" y=\"134.176398\"/>\r\n      </g>\r\n     </g>\r\n     <g id=\"text_14\">\r\n      <!-- 0.15 -->\r\n      <g transform=\"translate(20.878125 137.975617)scale(0.1 -0.1)\">\r\n       <use xlink:href=\"#DejaVuSans-48\"/>\r\n       <use x=\"63.623047\" xlink:href=\"#DejaVuSans-46\"/>\r\n       <use x=\"95.410156\" xlink:href=\"#DejaVuSans-49\"/>\r\n       <use x=\"159.033203\" xlink:href=\"#DejaVuSans-53\"/>\r\n      </g>\r\n     </g>\r\n    </g>\r\n    <g id=\"ytick_5\">\r\n     <g id=\"line2d_14\">\r\n      <g>\r\n       <use style=\"stroke:#000000;stroke-width:0.8;\" x=\"50.14375\" xlink:href=\"#m7ad61d887b\" y=\"105.561354\"/>\r\n      </g>\r\n     </g>\r\n     <g id=\"text_15\">\r\n      <!-- 0.20 -->\r\n      <g transform=\"translate(20.878125 109.360573)scale(0.1 -0.1)\">\r\n       <use xlink:href=\"#DejaVuSans-48\"/>\r\n       <use x=\"63.623047\" xlink:href=\"#DejaVuSans-46\"/>\r\n       <use x=\"95.410156\" xlink:href=\"#DejaVuSans-50\"/>\r\n       <use x=\"159.033203\" xlink:href=\"#DejaVuSans-48\"/>\r\n      </g>\r\n     </g>\r\n    </g>\r\n    <g id=\"ytick_6\">\r\n     <g id=\"line2d_15\">\r\n      <g>\r\n       <use style=\"stroke:#000000;stroke-width:0.8;\" x=\"50.14375\" xlink:href=\"#m7ad61d887b\" y=\"76.946309\"/>\r\n      </g>\r\n     </g>\r\n     <g id=\"text_16\">\r\n      <!-- 0.25 -->\r\n      <g transform=\"translate(20.878125 80.745528)scale(0.1 -0.1)\">\r\n       <use xlink:href=\"#DejaVuSans-48\"/>\r\n       <use x=\"63.623047\" xlink:href=\"#DejaVuSans-46\"/>\r\n       <use x=\"95.410156\" xlink:href=\"#DejaVuSans-50\"/>\r\n       <use x=\"159.033203\" xlink:href=\"#DejaVuSans-53\"/>\r\n      </g>\r\n     </g>\r\n    </g>\r\n    <g id=\"ytick_7\">\r\n     <g id=\"line2d_16\">\r\n      <g>\r\n       <use style=\"stroke:#000000;stroke-width:0.8;\" x=\"50.14375\" xlink:href=\"#m7ad61d887b\" y=\"48.331265\"/>\r\n      </g>\r\n     </g>\r\n     <g id=\"text_17\">\r\n      <!-- 0.30 -->\r\n      <g transform=\"translate(20.878125 52.130484)scale(0.1 -0.1)\">\r\n       <use xlink:href=\"#DejaVuSans-48\"/>\r\n       <use x=\"63.623047\" xlink:href=\"#DejaVuSans-46\"/>\r\n       <use x=\"95.410156\" xlink:href=\"#DejaVuSans-51\"/>\r\n       <use x=\"159.033203\" xlink:href=\"#DejaVuSans-48\"/>\r\n      </g>\r\n     </g>\r\n    </g>\r\n    <g id=\"ytick_8\">\r\n     <g id=\"line2d_17\">\r\n      <g>\r\n       <use style=\"stroke:#000000;stroke-width:0.8;\" x=\"50.14375\" xlink:href=\"#m7ad61d887b\" y=\"19.71622\"/>\r\n      </g>\r\n     </g>\r\n     <g id=\"text_18\">\r\n      <!-- 0.35 -->\r\n      <g transform=\"translate(20.878125 23.515439)scale(0.1 -0.1)\">\r\n       <use xlink:href=\"#DejaVuSans-48\"/>\r\n       <use x=\"63.623047\" xlink:href=\"#DejaVuSans-46\"/>\r\n       <use x=\"95.410156\" xlink:href=\"#DejaVuSans-51\"/>\r\n       <use x=\"159.033203\" xlink:href=\"#DejaVuSans-53\"/>\r\n      </g>\r\n     </g>\r\n    </g>\r\n    <g id=\"text_19\">\r\n     <!-- Time(ms) -->\r\n     <g transform=\"translate(14.798438 139.530156)rotate(-90)scale(0.1 -0.1)\">\r\n      <defs>\r\n       <path d=\"M -0.296875 72.90625 \r\nL 61.375 72.90625 \r\nL 61.375 64.59375 \r\nL 35.5 64.59375 \r\nL 35.5 0 \r\nL 25.59375 0 \r\nL 25.59375 64.59375 \r\nL -0.296875 64.59375 \r\nz\r\n\" id=\"DejaVuSans-84\"/>\r\n       <path d=\"M 9.421875 54.6875 \r\nL 18.40625 54.6875 \r\nL 18.40625 0 \r\nL 9.421875 0 \r\nz\r\nM 9.421875 75.984375 \r\nL 18.40625 75.984375 \r\nL 18.40625 64.59375 \r\nL 9.421875 64.59375 \r\nz\r\n\" id=\"DejaVuSans-105\"/>\r\n       <path d=\"M 52 44.1875 \r\nQ 55.375 50.25 60.0625 53.125 \r\nQ 64.75 56 71.09375 56 \r\nQ 79.640625 56 84.28125 50.015625 \r\nQ 88.921875 44.046875 88.921875 33.015625 \r\nL 88.921875 0 \r\nL 79.890625 0 \r\nL 79.890625 32.71875 \r\nQ 79.890625 40.578125 77.09375 44.375 \r\nQ 74.3125 48.1875 68.609375 48.1875 \r\nQ 61.625 48.1875 57.5625 43.546875 \r\nQ 53.515625 38.921875 53.515625 30.90625 \r\nL 53.515625 0 \r\nL 44.484375 0 \r\nL 44.484375 32.71875 \r\nQ 44.484375 40.625 41.703125 44.40625 \r\nQ 38.921875 48.1875 33.109375 48.1875 \r\nQ 26.21875 48.1875 22.15625 43.53125 \r\nQ 18.109375 38.875 18.109375 30.90625 \r\nL 18.109375 0 \r\nL 9.078125 0 \r\nL 9.078125 54.6875 \r\nL 18.109375 54.6875 \r\nL 18.109375 46.1875 \r\nQ 21.1875 51.21875 25.484375 53.609375 \r\nQ 29.78125 56 35.6875 56 \r\nQ 41.65625 56 45.828125 52.96875 \r\nQ 50 49.953125 52 44.1875 \r\nz\r\n\" id=\"DejaVuSans-109\"/>\r\n       <path d=\"M 31 75.875 \r\nQ 24.46875 64.65625 21.28125 53.65625 \r\nQ 18.109375 42.671875 18.109375 31.390625 \r\nQ 18.109375 20.125 21.3125 9.0625 \r\nQ 24.515625 -2 31 -13.1875 \r\nL 23.1875 -13.1875 \r\nQ 15.875 -1.703125 12.234375 9.375 \r\nQ 8.59375 20.453125 8.59375 31.390625 \r\nQ 8.59375 42.28125 12.203125 53.3125 \r\nQ 15.828125 64.359375 23.1875 75.875 \r\nz\r\n\" id=\"DejaVuSans-40\"/>\r\n       <path d=\"M 44.28125 53.078125 \r\nL 44.28125 44.578125 \r\nQ 40.484375 46.53125 36.375 47.5 \r\nQ 32.28125 48.484375 27.875 48.484375 \r\nQ 21.1875 48.484375 17.84375 46.4375 \r\nQ 14.5 44.390625 14.5 40.28125 \r\nQ 14.5 37.15625 16.890625 35.375 \r\nQ 19.28125 33.59375 26.515625 31.984375 \r\nL 29.59375 31.296875 \r\nQ 39.15625 29.25 43.1875 25.515625 \r\nQ 47.21875 21.78125 47.21875 15.09375 \r\nQ 47.21875 7.46875 41.1875 3.015625 \r\nQ 35.15625 -1.421875 24.609375 -1.421875 \r\nQ 20.21875 -1.421875 15.453125 -0.5625 \r\nQ 10.6875 0.296875 5.421875 2 \r\nL 5.421875 11.28125 \r\nQ 10.40625 8.6875 15.234375 7.390625 \r\nQ 20.0625 6.109375 24.8125 6.109375 \r\nQ 31.15625 6.109375 34.5625 8.28125 \r\nQ 37.984375 10.453125 37.984375 14.40625 \r\nQ 37.984375 18.0625 35.515625 20.015625 \r\nQ 33.0625 21.96875 24.703125 23.78125 \r\nL 21.578125 24.515625 \r\nQ 13.234375 26.265625 9.515625 29.90625 \r\nQ 5.8125 33.546875 5.8125 39.890625 \r\nQ 5.8125 47.609375 11.28125 51.796875 \r\nQ 16.75 56 26.8125 56 \r\nQ 31.78125 56 36.171875 55.265625 \r\nQ 40.578125 54.546875 44.28125 53.078125 \r\nz\r\n\" id=\"DejaVuSans-115\"/>\r\n       <path d=\"M 8.015625 75.875 \r\nL 15.828125 75.875 \r\nQ 23.140625 64.359375 26.78125 53.3125 \r\nQ 30.421875 42.28125 30.421875 31.390625 \r\nQ 30.421875 20.453125 26.78125 9.375 \r\nQ 23.140625 -1.703125 15.828125 -13.1875 \r\nL 8.015625 -13.1875 \r\nQ 14.5 -2 17.703125 9.0625 \r\nQ 20.90625 20.125 20.90625 31.390625 \r\nQ 20.90625 42.671875 17.703125 53.65625 \r\nQ 14.5 64.65625 8.015625 75.875 \r\nz\r\n\" id=\"DejaVuSans-41\"/>\r\n      </defs>\r\n      <use xlink:href=\"#DejaVuSans-84\"/>\r\n      <use x=\"57.958984\" xlink:href=\"#DejaVuSans-105\"/>\r\n      <use x=\"85.742188\" xlink:href=\"#DejaVuSans-109\"/>\r\n      <use x=\"183.154297\" xlink:href=\"#DejaVuSans-101\"/>\r\n      <use x=\"244.677734\" xlink:href=\"#DejaVuSans-40\"/>\r\n      <use x=\"283.691406\" xlink:href=\"#DejaVuSans-109\"/>\r\n      <use x=\"381.103516\" xlink:href=\"#DejaVuSans-115\"/>\r\n      <use x=\"433.203125\" xlink:href=\"#DejaVuSans-41\"/>\r\n     </g>\r\n    </g>\r\n   </g>\r\n   <g id=\"patch_3\">\r\n    <path d=\"M 50.14375 224.64 \r\nL 50.14375 7.2 \r\n\" style=\"fill:none;stroke:#000000;stroke-linecap:square;stroke-linejoin:miter;stroke-width:0.8;\"/>\r\n   </g>\r\n   <g id=\"patch_4\">\r\n    <path d=\"M 384.94375 224.64 \r\nL 384.94375 7.2 \r\n\" style=\"fill:none;stroke:#000000;stroke-linecap:square;stroke-linejoin:miter;stroke-width:0.8;\"/>\r\n   </g>\r\n   <g id=\"patch_5\">\r\n    <path d=\"M 50.14375 224.64 \r\nL 384.94375 224.64 \r\n\" style=\"fill:none;stroke:#000000;stroke-linecap:square;stroke-linejoin:miter;stroke-width:0.8;\"/>\r\n   </g>\r\n   <g id=\"patch_6\">\r\n    <path d=\"M 50.14375 7.2 \r\nL 384.94375 7.2 \r\n\" style=\"fill:none;stroke:#000000;stroke-linecap:square;stroke-linejoin:miter;stroke-width:0.8;\"/>\r\n   </g>\r\n   <g id=\"legend_1\">\r\n    <g id=\"patch_7\">\r\n     <path d=\"M 57.14375 59.234375 \r\nL 138.185938 59.234375 \r\nQ 140.185938 59.234375 140.185938 57.234375 \r\nL 140.185938 14.2 \r\nQ 140.185938 12.2 138.185938 12.2 \r\nL 57.14375 12.2 \r\nQ 55.14375 12.2 55.14375 14.2 \r\nL 55.14375 57.234375 \r\nQ 55.14375 59.234375 57.14375 59.234375 \r\nz\r\n\" style=\"fill:#ffffff;opacity:0.8;stroke:#cccccc;stroke-linejoin:miter;\"/>\r\n    </g>\r\n    <g id=\"text_20\">\r\n     <!-- Algo -->\r\n     <g transform=\"translate(86.621875 23.798437)scale(0.1 -0.1)\">\r\n      <defs>\r\n       <path d=\"M 34.1875 63.1875 \r\nL 20.796875 26.90625 \r\nL 47.609375 26.90625 \r\nz\r\nM 28.609375 72.90625 \r\nL 39.796875 72.90625 \r\nL 67.578125 0 \r\nL 57.328125 0 \r\nL 50.6875 18.703125 \r\nL 17.828125 18.703125 \r\nL 11.1875 0 \r\nL 0.78125 0 \r\nz\r\n\" id=\"DejaVuSans-65\"/>\r\n       <path d=\"M 9.421875 75.984375 \r\nL 18.40625 75.984375 \r\nL 18.40625 0 \r\nL 9.421875 0 \r\nz\r\n\" id=\"DejaVuSans-108\"/>\r\n       <path d=\"M 30.609375 48.390625 \r\nQ 23.390625 48.390625 19.1875 42.75 \r\nQ 14.984375 37.109375 14.984375 27.296875 \r\nQ 14.984375 17.484375 19.15625 11.84375 \r\nQ 23.34375 6.203125 30.609375 6.203125 \r\nQ 37.796875 6.203125 41.984375 11.859375 \r\nQ 46.1875 17.53125 46.1875 27.296875 \r\nQ 46.1875 37.015625 41.984375 42.703125 \r\nQ 37.796875 48.390625 30.609375 48.390625 \r\nz\r\nM 30.609375 56 \r\nQ 42.328125 56 49.015625 48.375 \r\nQ 55.71875 40.765625 55.71875 27.296875 \r\nQ 55.71875 13.875 49.015625 6.21875 \r\nQ 42.328125 -1.421875 30.609375 -1.421875 \r\nQ 18.84375 -1.421875 12.171875 6.21875 \r\nQ 5.515625 13.875 5.515625 27.296875 \r\nQ 5.515625 40.765625 12.171875 48.375 \r\nQ 18.84375 56 30.609375 56 \r\nz\r\n\" id=\"DejaVuSans-111\"/>\r\n      </defs>\r\n      <use xlink:href=\"#DejaVuSans-65\"/>\r\n      <use x=\"68.408203\" xlink:href=\"#DejaVuSans-108\"/>\r\n      <use x=\"96.191406\" xlink:href=\"#DejaVuSans-103\"/>\r\n      <use x=\"159.667969\" xlink:href=\"#DejaVuSans-111\"/>\r\n     </g>\r\n    </g>\r\n    <g id=\"PathCollection_4\">\r\n     <defs>\r\n      <path d=\"M 0 3 \r\nC 0.795609 3 1.55874 2.683901 2.12132 2.12132 \r\nC 2.683901 1.55874 3 0.795609 3 0 \r\nC 3 -0.795609 2.683901 -1.55874 2.12132 -2.12132 \r\nC 1.55874 -2.683901 0.795609 -3 0 -3 \r\nC -0.795609 -3 -1.55874 -2.683901 -2.12132 -2.12132 \r\nC -2.683901 -1.55874 -3 -0.795609 -3 0 \r\nC -3 0.795609 -2.683901 1.55874 -2.12132 2.12132 \r\nC -1.55874 2.683901 -0.795609 3 0 3 \r\nz\r\n\" id=\"m2783e8eae5\" style=\"stroke:#1f77b4;\"/>\r\n     </defs>\r\n     <g>\r\n      <use style=\"fill:#1f77b4;stroke:#1f77b4;\" x=\"69.14375\" xlink:href=\"#m2783e8eae5\" y=\"35.851562\"/>\r\n     </g>\r\n    </g>\r\n    <g id=\"text_21\">\r\n     <!-- ForLoop -->\r\n     <g transform=\"translate(87.14375 38.476562)scale(0.1 -0.1)\">\r\n      <defs>\r\n       <path d=\"M 9.8125 72.90625 \r\nL 51.703125 72.90625 \r\nL 51.703125 64.59375 \r\nL 19.671875 64.59375 \r\nL 19.671875 43.109375 \r\nL 48.578125 43.109375 \r\nL 48.578125 34.8125 \r\nL 19.671875 34.8125 \r\nL 19.671875 0 \r\nL 9.8125 0 \r\nz\r\n\" id=\"DejaVuSans-70\"/>\r\n       <path d=\"M 9.8125 72.90625 \r\nL 19.671875 72.90625 \r\nL 19.671875 8.296875 \r\nL 55.171875 8.296875 \r\nL 55.171875 0 \r\nL 9.8125 0 \r\nz\r\n\" id=\"DejaVuSans-76\"/>\r\n       <path d=\"M 18.109375 8.203125 \r\nL 18.109375 -20.796875 \r\nL 9.078125 -20.796875 \r\nL 9.078125 54.6875 \r\nL 18.109375 54.6875 \r\nL 18.109375 46.390625 \r\nQ 20.953125 51.265625 25.265625 53.625 \r\nQ 29.59375 56 35.59375 56 \r\nQ 45.5625 56 51.78125 48.09375 \r\nQ 58.015625 40.1875 58.015625 27.296875 \r\nQ 58.015625 14.40625 51.78125 6.484375 \r\nQ 45.5625 -1.421875 35.59375 -1.421875 \r\nQ 29.59375 -1.421875 25.265625 0.953125 \r\nQ 20.953125 3.328125 18.109375 8.203125 \r\nz\r\nM 48.6875 27.296875 \r\nQ 48.6875 37.203125 44.609375 42.84375 \r\nQ 40.53125 48.484375 33.40625 48.484375 \r\nQ 26.265625 48.484375 22.1875 42.84375 \r\nQ 18.109375 37.203125 18.109375 27.296875 \r\nQ 18.109375 17.390625 22.1875 11.75 \r\nQ 26.265625 6.109375 33.40625 6.109375 \r\nQ 40.53125 6.109375 44.609375 11.75 \r\nQ 48.6875 17.390625 48.6875 27.296875 \r\nz\r\n\" id=\"DejaVuSans-112\"/>\r\n      </defs>\r\n      <use xlink:href=\"#DejaVuSans-70\"/>\r\n      <use x=\"53.894531\" xlink:href=\"#DejaVuSans-111\"/>\r\n      <use x=\"115.076172\" xlink:href=\"#DejaVuSans-114\"/>\r\n      <use x=\"156.189453\" xlink:href=\"#DejaVuSans-76\"/>\r\n      <use x=\"210.152344\" xlink:href=\"#DejaVuSans-111\"/>\r\n      <use x=\"271.333984\" xlink:href=\"#DejaVuSans-111\"/>\r\n      <use x=\"332.515625\" xlink:href=\"#DejaVuSans-112\"/>\r\n     </g>\r\n    </g>\r\n    <g id=\"PathCollection_5\">\r\n     <defs>\r\n      <path d=\"M 0 3 \r\nC 0.795609 3 1.55874 2.683901 2.12132 2.12132 \r\nC 2.683901 1.55874 3 0.795609 3 0 \r\nC 3 -0.795609 2.683901 -1.55874 2.12132 -2.12132 \r\nC 1.55874 -2.683901 0.795609 -3 0 -3 \r\nC -0.795609 -3 -1.55874 -2.683901 -2.12132 -2.12132 \r\nC -2.683901 -1.55874 -3 -0.795609 -3 0 \r\nC -3 0.795609 -2.683901 1.55874 -2.12132 2.12132 \r\nC -1.55874 2.683901 -0.795609 3 0 3 \r\nz\r\n\" id=\"m5e37b2123a\" style=\"stroke:#ff7f0e;\"/>\r\n     </defs>\r\n     <g>\r\n      <use style=\"fill:#ff7f0e;stroke:#ff7f0e;\" x=\"69.14375\" xlink:href=\"#m5e37b2123a\" y=\"50.529687\"/>\r\n     </g>\r\n    </g>\r\n    <g id=\"text_22\">\r\n     <!-- Recursion -->\r\n     <g transform=\"translate(87.14375 53.154687)scale(0.1 -0.1)\">\r\n      <defs>\r\n       <path d=\"M 44.390625 34.1875 \r\nQ 47.5625 33.109375 50.5625 29.59375 \r\nQ 53.5625 26.078125 56.59375 19.921875 \r\nL 66.609375 0 \r\nL 56 0 \r\nL 46.6875 18.703125 \r\nQ 43.0625 26.03125 39.671875 28.421875 \r\nQ 36.28125 30.8125 30.421875 30.8125 \r\nL 19.671875 30.8125 \r\nL 19.671875 0 \r\nL 9.8125 0 \r\nL 9.8125 72.90625 \r\nL 32.078125 72.90625 \r\nQ 44.578125 72.90625 50.734375 67.671875 \r\nQ 56.890625 62.453125 56.890625 51.90625 \r\nQ 56.890625 45.015625 53.6875 40.46875 \r\nQ 50.484375 35.9375 44.390625 34.1875 \r\nz\r\nM 19.671875 64.796875 \r\nL 19.671875 38.921875 \r\nL 32.078125 38.921875 \r\nQ 39.203125 38.921875 42.84375 42.21875 \r\nQ 46.484375 45.515625 46.484375 51.90625 \r\nQ 46.484375 58.296875 42.84375 61.546875 \r\nQ 39.203125 64.796875 32.078125 64.796875 \r\nz\r\n\" id=\"DejaVuSans-82\"/>\r\n       <path d=\"M 48.78125 52.59375 \r\nL 48.78125 44.1875 \r\nQ 44.96875 46.296875 41.140625 47.34375 \r\nQ 37.3125 48.390625 33.40625 48.390625 \r\nQ 24.65625 48.390625 19.8125 42.84375 \r\nQ 14.984375 37.3125 14.984375 27.296875 \r\nQ 14.984375 17.28125 19.8125 11.734375 \r\nQ 24.65625 6.203125 33.40625 6.203125 \r\nQ 37.3125 6.203125 41.140625 7.25 \r\nQ 44.96875 8.296875 48.78125 10.40625 \r\nL 48.78125 2.09375 \r\nQ 45.015625 0.34375 40.984375 -0.53125 \r\nQ 36.96875 -1.421875 32.421875 -1.421875 \r\nQ 20.0625 -1.421875 12.78125 6.34375 \r\nQ 5.515625 14.109375 5.515625 27.296875 \r\nQ 5.515625 40.671875 12.859375 48.328125 \r\nQ 20.21875 56 33.015625 56 \r\nQ 37.15625 56 41.109375 55.140625 \r\nQ 45.0625 54.296875 48.78125 52.59375 \r\nz\r\n\" id=\"DejaVuSans-99\"/>\r\n       <path d=\"M 8.5 21.578125 \r\nL 8.5 54.6875 \r\nL 17.484375 54.6875 \r\nL 17.484375 21.921875 \r\nQ 17.484375 14.15625 20.5 10.265625 \r\nQ 23.53125 6.390625 29.59375 6.390625 \r\nQ 36.859375 6.390625 41.078125 11.03125 \r\nQ 45.3125 15.671875 45.3125 23.6875 \r\nL 45.3125 54.6875 \r\nL 54.296875 54.6875 \r\nL 54.296875 0 \r\nL 45.3125 0 \r\nL 45.3125 8.40625 \r\nQ 42.046875 3.421875 37.71875 1 \r\nQ 33.40625 -1.421875 27.6875 -1.421875 \r\nQ 18.265625 -1.421875 13.375 4.4375 \r\nQ 8.5 10.296875 8.5 21.578125 \r\nz\r\nM 31.109375 56 \r\nz\r\n\" id=\"DejaVuSans-117\"/>\r\n      </defs>\r\n      <use xlink:href=\"#DejaVuSans-82\"/>\r\n      <use x=\"64.982422\" xlink:href=\"#DejaVuSans-101\"/>\r\n      <use x=\"126.505859\" xlink:href=\"#DejaVuSans-99\"/>\r\n      <use x=\"181.486328\" xlink:href=\"#DejaVuSans-117\"/>\r\n      <use x=\"244.865234\" xlink:href=\"#DejaVuSans-114\"/>\r\n      <use x=\"285.978516\" xlink:href=\"#DejaVuSans-115\"/>\r\n      <use x=\"338.078125\" xlink:href=\"#DejaVuSans-105\"/>\r\n      <use x=\"365.861328\" xlink:href=\"#DejaVuSans-111\"/>\r\n      <use x=\"427.042969\" xlink:href=\"#DejaVuSans-110\"/>\r\n     </g>\r\n    </g>\r\n   </g>\r\n  </g>\r\n </g>\r\n <defs>\r\n  <clipPath id=\"pf29529f4ef\">\r\n   <rect height=\"217.44\" width=\"334.8\" x=\"50.14375\" y=\"7.2\"/>\r\n  </clipPath>\r\n </defs>\r\n</svg>\r\n",
      "image/png": "[encoded data removed]"
     },
     "metadata": {
      "needs_background": "light"
     }
    }
   ],
   "source": [
    "sns.scatterplot(data = long_df, x='Integer', hue='Algo', y='Time(ms)', s=100)\n"
   ]
  },
  {
   "source": [
    "Prepare an executive summary of your results, referring to the table and figures you have generated. Explain how your results relate to big O notation. Describe your results in language that management can understand. This summary should be included as text paragraphs in the Jupyter notebook. Explain how the algorithm works and why it is a useful to data engineers."
   ],
   "cell_type": "markdown",
   "metadata": {}
  },
  {
   "cell_type": "code",
   "execution_count": null,
   "metadata": {},
   "outputs": [],
   "source": [
    "def LoopFact(x):\n",
    "    fact = 1\n",
    "    for i in range(1,x+1):\n",
    "        fact = fact * i\n",
    "    return fact\n",
    "\n",
    "\n",
    "def RecursiveFact(x):\n",
    "    if x == 1:\n",
    "        return 1\n",
    "    else:\n",
    "        return x * RecursiveFact(x-1)\n",
    "\n",
    "def FactContainer(arr, fun):\n",
    "    factorials = []\n",
    "    times = []\n",
    "    for i in range(0, len(arr)):\n",
    "        start= time.perf_counter()\n",
    "        x = arr[i]\n",
    "        fact = fun(int(x))\n",
    "        end = time.perf_counter()\n",
    "        duration = (end-start)* 1E3\n",
    "        factorials.append(fact)\n",
    "        times.append(duration)\n",
    "    return factorials, times\n",
    "        "
   ]
  },
  {
   "source": [
    "# Discussion\n",
    "\n",
    "### The recursive algorithm seems to underperform here in all cases. It does appear that desite a single outlier both of these functions are linear with respect to time. This makes sense because there's a single multiplcation increase for every increment of an integer. Therefore these algorithms are O(n). The compoutational times for these two algorightms are not incredibly different. Since there is only a single loop in the LoopFact function. I would make the argument that it is much more readible. For algorithms requiring case type evalutions the readibility starts to go down and the amount of code that has to be written will increase. Therefore switching to an algorithm that uses recursion will cut down on the verbose nature of the code. There are three functions in this experiment (two functions for each factorial algorithm and a single function which collects the return values for each item in a supplied array given the application of the desired factorial function):\n",
    "\n",
    "LoopFact(): \n",
    "\n",
    "    This function uses a for loop to itearte over the range of the supplied integer starting at 1 and going to the integer itself.\n",
    "    Each iteration it takes the incremental integer and multiplies it by the product of the previous loop returning the final product when it reaches the supplied integer.\n",
    "\n",
    "RecursiveFact():\n",
    "\n",
    "    This function decrements the value of a supplied integer until the value of the decremented integer reaches 1. Returning the final product of the recursive stack of decrements.\n",
    "    \n",
    "FactContainer(): \n",
    "    \n",
    "    This function is just a simple loop that serves to collect the factorials and computation times for an array of integers when supplied with that array of integers and one of the above algorithms. It's actually an extremely reusable piece of code. For instance, the object 'Factorials' could be replaced with 'FunReturns' and really any function that returns a value can be evaluated so long as it is supplied with an object that is iterable and a function that returns something.\n",
    "\n",
    "\n"
   ],
   "cell_type": "markdown",
   "metadata": {}
  },
  {
   "source": [
    "# ------------------------ END ------------------------\n",
    "\n",
    "    code graveyard "
   ],
   "cell_type": "markdown",
   "metadata": {}
  },
  {
   "source": [
    "#### This was an unsustainable path, too much copy paste, this made me figure out the discrepency between np.int dtypes and the python int() the later having flexible size while numpy is constrained to either 32 or 64 bit. Both of these are too small for the generated factorials.\n",
    "# \n",
    "# def SingleRecursionContainer(x, fun):\n",
    "#        factorials = []\n",
    "#        times = []\n",
    "#        start= time.perf_counter()\n",
    "#        fact = (fun(x))\n",
    "#        end = time.perf_counter()\n",
    "#        duration = (end-start)* 1E3\n",
    "#        factorials.append(fact)\n",
    "#        times.append(duration)\n",
    "#        return factorials, times\n",
    "\n"
   ],
   "cell_type": "markdown",
   "metadata": {}
  },
  {
   "cell_type": "code",
   "execution_count": 16,
   "metadata": {},
   "outputs": [],
   "source": [
    "#arr0_stats = SingleRecursionContainer(int(arr[0]) ,RecursiveFact)\r\n",
    "#arr1_stats = SingleRecursionContainer(int(arr[1]) ,RecursiveFact)\r\n",
    "#arr2_stats = SingleRecursionContainer(int(arr[2]) ,RecursiveFact)\r\n",
    "#arr3_stats = SingleRecursionContainer(int(arr[3]) ,RecursiveFact)\r\n",
    "#arr4_stats =SingleRecursionContainer(int(arr[4]) ,RecursiveFact)\r\n"
   ]
  }
 ]
}