{
 "metadata": {
  "language_info": {
   "codemirror_mode": {
    "name": "ipython",
    "version": 3
   },
   "file_extension": ".py",
   "mimetype": "text/x-python",
   "name": "python",
   "nbconvert_exporter": "python",
   "pygments_lexer": "ipython3",
   "version": "3.7.9"
  },
  "orig_nbformat": 2,
  "kernelspec": {
   "name": "python379jvsc74a57bd0d21ade3f8f024ee8ef81c475e4ba98f13d175885fba3236d9d4d73bd66cf6406",
   "display_name": "Python 3.7.9 64-bit ('base': conda)"
  }
 },
 "nbformat": 4,
 "nbformat_minor": 2,
 "cells": [
  {
   "source": [
    "# Assignment 5: Exploring Hashing\n",
    "\n",
    "\n",
    "In this exercise, we will begin to explore the concept of hashing and how it related to various object containers with respect to computational complexity.  We will begin with the base code for as described in Chapter 5 of Grokking Algorithms (Bhargava 2016).  \n"
   ],
   "cell_type": "markdown",
   "metadata": {}
  },
  {
   "source": [
    "## Deliverables:\n",
    "\n",
    "We will again generate random data for this assignment.  \n",
    "\n",
    "    1) Create a list of 100,000 names (randomly pick 10 characters e.g. abcdefghij, any order is fine, just make sure there are no duplicates names) and store those names in an unsorted list.\n",
    "\n",
    "    2) Now store the above names in a set\n",
    "    3) Make a separate copy of the list and sort it using any sorting algorithm that you have learned so far and justify why are you using it. Capture the time it takes to sort the list.\n",
    "\n",
    "\n",
    "    \n",
    "    4) Pick the names from the unsorted array that are at 10,000th, 30,000th, 50,000th, 70,000th, 90,000th, and 100,000th positions, and store them in a temporary array somewhere for later use.\n",
    "    5) Search for these six names in each of the collections.  Use linear search for the unsorted list, binary search for the sorted list, and use the set.remove() (or the in keyword) builtin for the set.  Capture the time it takes using all three algorithms.\n",
    "    6) Create a table and plot comparing times of linear search, binary search and set lookup for the six names using Python (matplotlib or Seaborn) or JavaScript (D3) visualization tools to illustrate algorithm performance. \n",
    "    \n",
    "### Prepare an executive summary of your results, referring to the table and figures you have generated. Explain how your results relate to big O notation. Describe your results in language that management can understand. This summary should be included as text paragraphs in the Jupyter notebook. Explain how the algorithm works and why it is a useful to data engineers."
   ],
   "cell_type": "markdown",
   "metadata": {}
  },
  {
   "source": [
    "# A. Setup: Library imports, Function construction and Array generation"
   ],
   "cell_type": "markdown",
   "metadata": {}
  },
  {
   "source": [
    "import numpy as np\n",
    "import pandas as pd\n",
    "\n",
    "import seaborn as sns\n",
    "import time\n",
    "\n",
    "import random\n",
    "import string\n",
    "\n",
    "\n",
    "RANDOM_SEED = 8 #sets random seed"
   ],
   "cell_type": "code",
   "metadata": {},
   "execution_count": 58,
   "outputs": []
  },
  {
   "cell_type": "code",
   "execution_count": 59,
   "metadata": {},
   "outputs": [],
   "source": [
    "\n",
    "\n",
    "def random_string(str_length, num_strings):\n",
    "    str_list = [] #instantiates an empty list to hold the strings\n",
    "    for i in range(0,num_strings): #loop to generate the specified number of strings\n",
    "        str_list.append(''.join(random.choice(string.ascii_lowercase) for m in range(str_length))) #generates a string of the defined character length \n",
    "    return str_list #returns the string list\n",
    "\n",
    "\n",
    "\n",
    "\n",
    "def MergeSort(arr):\n",
    "    if len(arr) > 1:\n",
    "          \n",
    "        mid = len(arr)//2 # gets middle\n",
    "        Left = arr[:mid] #splits elements left of middle\n",
    "        Right = arr[mid:] #splits elements right of middle\n",
    "\n",
    "        MergeSort(Left) #recursive call on left \n",
    "        MergeSort(Right) #recursive call on right\n",
    " #set all indicies to 0 \n",
    "        i=0\n",
    "        k=0\n",
    "        j=0\n",
    " #below checks the values for if elements are sorted, if unsorted: swap. Merge to the original list    \n",
    "        while i < len(Left) and j < len(Right):\n",
    "            if Left[i] < Right[j]:\n",
    "                arr[k] = Left[i] #makes k index of arr left[i] if it's less than Right[j]\n",
    "                i += 1 #increments i (the left index)\n",
    "               \n",
    "            else:\n",
    "                arr[k] = Right[j] #if right value is lss than left, makes arr[k] the value of right and increments the right index\n",
    "                j += 1 #increments j\n",
    "            k += 1 #increments the arr index\n",
    "   \n",
    "        while i < len(Left): #checks to see if reamaining elements in left (less than mid), if so adds to arr at k index and increments i and k\n",
    "            arr[k] = Left[i]\n",
    "            i += 1 #increments i\n",
    "            k += 1 #increments k\n",
    " \n",
    "        while j < len(Right): #checks to see if remaining elements in right (greater than mid), if so adds to arr at k index and increments j and k.\n",
    "            arr[k] = Right[j]\n",
    "            j += 1 #increments j\n",
    "            k += 1 #increments k\n",
    "        \n",
    "        return arr\n",
    "\n",
    "\n",
    "\n",
    "def Container(arr, fun):\n",
    "    objects = [] #instantiates an empty list to collect the returns\n",
    "    times = [] #instantiates an empty list to collect times for each computation\n",
    "\n",
    "    start= time.perf_counter() #collects the start time\n",
    "    obj = fun(arr) # applies the function to the arr object\n",
    "    end = time.perf_counter() # collects end time\n",
    "    duration = (end-start)* 1E3 #converts to milliseconds\n",
    "    objects.append(obj)# adds the returns of the functions to the objects list\n",
    "    times.append(duration) # adds the duration for computation to list\n",
    "    return objects, duration\n",
    "\n",
    "\n",
    "#function SimpleSearch uses a value counter \"low\" which increments after a non successful evalution of equivalence for the item within a given array. It returns the milliseconds elapsed and a register of all the incremental guesses.\n",
    "def SimpleSearch(array, item):\n",
    "    \n",
    "    register = [] # creates  empty register of guesses\n",
    "    low = 1\n",
    "    start = time.perf_counter() # gets fractional seconds\n",
    "    while item > low:\n",
    "            low += 1 #increments low\n",
    "            register.append(low) # appends incremental guesses to register\n",
    " \n",
    "    end = time.perf_counter() # gets fractional seconds\n",
    "    duration = end - start # calcualates difference in fractional seconds\n",
    "    MilliElapsed = duration*1E3\n",
    " # returns a tuple which contains search time in milliseconds and register of the guesses\n",
    "    return MilliElapsed, register\n",
    "\n",
    "\n",
    "#function BinarySearch determines the range of the array and guwsses the midpoint of the range. A loop continues to to perform iterative range evaluations so long as the low value is equal or less than the high value of the array. When the gues converges to the item of interest, a tuple is returned with the time elapsed in milliseconds and the register of guesses.\n",
    "def BinarySearch(array, item):\n",
    "   \n",
    "    low = np.min(array) #finds lowest value in array\n",
    "    high = np.max(array) #finds highest value in array\n",
    "    register = [] # creates  empty register of increments; for debug purposes\n",
    "    start = time.perf_counter() # gets fractional seconds\n",
    "    while low <= high:     \n",
    "        mid= (low +high)/2  # calculates midpoint of the range\n",
    "        guess = int(mid)+1  \n",
    "        register.append(guess) # appends increments to register; for debug purposes\n",
    "        if guess == item:\n",
    "                end = time.perf_counter() #datetime.utcnow()\n",
    "                duration = end - start\n",
    "                MilliElapsed = duration*1E3 #.total_seconds()*1E3  \n",
    "#returns a tuple which contains search time in milliseconds and register of the guesses \n",
    "                return MilliElapsed, register\n",
    "        elif guess > item:\n",
    "                high = mid\n",
    "                print('The guess went too high!')\n",
    "        else:\n",
    "                low = mid\n",
    "                \n"
   ]
  },
  {
   "cell_type": "code",
   "execution_count": 64,
   "metadata": {},
   "outputs": [],
   "source": [
    " \n",
    "str100000 = random_string(str_length=10, num_strings=100000) #generates random strings\n",
    "str100000_copy = str100000[:] #creates a copy of the random strings\n",
    "\n",
    "positions = [99999, 29999, 49999, 69999, 89999, 99999] #positions of the names (needles)\n",
    "\n",
    "needles = [str100000[i] for i in positions] #collects the needles from the haystack\n",
    "\n",
    "str_test = random_string(str_length=10, num_strings=20) \n",
    "str_test_copy = str_test[:]\n",
    "\n",
    "str100000_container =Container(str100000, MergeSort) #uses mergesort to sort the strings.\n",
    "temp =str100000_container[0]\n",
    "str100000_sorted =temp[0]\n",
    "str_test_sorted = Container(str_test, MergeSort)\n",
    "\n",
    "set_str100000 = set(str100000_copy)"
   ]
  },
  {
   "cell_type": "code",
   "execution_count": 65,
   "metadata": {},
   "outputs": [
    {
     "output_type": "stream",
     "name": "stdout",
     "text": [
      "the needles are: ['ujbzlqozyd', 'hlyifuetyk', 'dtihoqlmab', 'fuqlqdwnyr', 'achhewciaj', 'ujbzlqozyd']\nthe length of the set is: 100000\nthe length of the unsorted copy is: 100000\nthe length of the sorted list (mergesort) is: 100000\n"
     ]
    }
   ],
   "source": [
    "print('the needles are:' , needles)\n",
    "print('the length of the set is:' ,len(set_str100000))\n",
    "print('the length of the unsorted copy is:' , len(str100000_copy))\n",
    "print('the length of the sorted list (mergesort) is:', len(str100000_sorted))"
   ]
  },
  {
   "source": [
    "# B. Sorting\n"
   ],
   "cell_type": "markdown",
   "metadata": {}
  },
  {
   "cell_type": "code",
   "execution_count": null,
   "metadata": {},
   "outputs": [],
   "source": []
  },
  {
   "source": [
    "# C. Summary"
   ],
   "cell_type": "markdown",
   "metadata": {}
  },
  {
   "cell_type": "code",
   "execution_count": 62,
   "metadata": {},
   "outputs": [
    {
     "output_type": "error",
     "ename": "NameError",
     "evalue": "name 'str200_bubble' is not defined",
     "traceback": [
      "\u001b[1;31m---------------------------------------------------------------------------\u001b[0m",
      "\u001b[1;31mNameError\u001b[0m                                 Traceback (most recent call last)",
      "\u001b[1;32m<ipython-input-62-51cf7cdf158c>\u001b[0m in \u001b[0;36m<module>\u001b[1;34m\u001b[0m\n\u001b[0;32m      1\u001b[0m Summary = {\n\u001b[0;32m      2\u001b[0m     \u001b[1;34m'NumberOfStrings'\u001b[0m\u001b[1;33m:\u001b[0m \u001b[1;33m[\u001b[0m\u001b[1;36m200\u001b[0m\u001b[1;33m,\u001b[0m \u001b[1;36m400\u001b[0m\u001b[1;33m,\u001b[0m \u001b[1;36m600\u001b[0m\u001b[1;33m,\u001b[0m \u001b[1;36m800\u001b[0m\u001b[1;33m,\u001b[0m \u001b[1;36m1000\u001b[0m\u001b[1;33m]\u001b[0m\u001b[1;33m,\u001b[0m\u001b[1;33m\u001b[0m\u001b[1;33m\u001b[0m\u001b[0m\n\u001b[1;32m----> 3\u001b[1;33m     \u001b[1;34m'BubbleSort'\u001b[0m\u001b[1;33m:\u001b[0m \u001b[1;33m[\u001b[0m\u001b[0mstr200_bubble\u001b[0m\u001b[1;33m[\u001b[0m\u001b[1;36m1\u001b[0m\u001b[1;33m]\u001b[0m\u001b[1;33m,\u001b[0m \u001b[0mstr400_bubble\u001b[0m\u001b[1;33m[\u001b[0m\u001b[1;36m1\u001b[0m\u001b[1;33m]\u001b[0m\u001b[1;33m,\u001b[0m \u001b[0mstr600_bubble\u001b[0m\u001b[1;33m[\u001b[0m\u001b[1;36m1\u001b[0m\u001b[1;33m]\u001b[0m\u001b[1;33m,\u001b[0m \u001b[0mstr800_bubble\u001b[0m\u001b[1;33m[\u001b[0m\u001b[1;36m1\u001b[0m\u001b[1;33m]\u001b[0m\u001b[1;33m,\u001b[0m \u001b[0mstr1000_bubble\u001b[0m\u001b[1;33m[\u001b[0m\u001b[1;36m1\u001b[0m\u001b[1;33m]\u001b[0m\u001b[1;33m]\u001b[0m\u001b[1;33m,\u001b[0m\u001b[1;33m\u001b[0m\u001b[1;33m\u001b[0m\u001b[0m\n\u001b[0m\u001b[0;32m      4\u001b[0m     \u001b[1;34m'MergeSort'\u001b[0m\u001b[1;33m:\u001b[0m \u001b[1;33m[\u001b[0m\u001b[0mstr200_merge\u001b[0m\u001b[1;33m[\u001b[0m\u001b[1;36m1\u001b[0m\u001b[1;33m]\u001b[0m\u001b[1;33m,\u001b[0m \u001b[0mstr400_merge\u001b[0m\u001b[1;33m[\u001b[0m\u001b[1;36m1\u001b[0m\u001b[1;33m]\u001b[0m \u001b[1;33m,\u001b[0m \u001b[0mstr600_merge\u001b[0m\u001b[1;33m[\u001b[0m\u001b[1;36m1\u001b[0m\u001b[1;33m]\u001b[0m\u001b[1;33m,\u001b[0m \u001b[0mstr800_merge\u001b[0m\u001b[1;33m[\u001b[0m\u001b[1;36m1\u001b[0m\u001b[1;33m]\u001b[0m\u001b[1;33m,\u001b[0m \u001b[0mstr1000_merge\u001b[0m\u001b[1;33m[\u001b[0m\u001b[1;36m1\u001b[0m\u001b[1;33m]\u001b[0m\u001b[1;33m]\u001b[0m\u001b[1;33m,\u001b[0m\u001b[1;33m\u001b[0m\u001b[1;33m\u001b[0m\u001b[0m\n\u001b[0;32m      5\u001b[0m     \u001b[1;34m'QuickSort'\u001b[0m\u001b[1;33m:\u001b[0m \u001b[1;33m[\u001b[0m\u001b[0mstr200_quick\u001b[0m\u001b[1;33m[\u001b[0m\u001b[1;36m1\u001b[0m\u001b[1;33m]\u001b[0m\u001b[1;33m,\u001b[0m \u001b[0mstr400_quick\u001b[0m\u001b[1;33m[\u001b[0m\u001b[1;36m1\u001b[0m\u001b[1;33m]\u001b[0m\u001b[1;33m,\u001b[0m \u001b[0mstr600_quick\u001b[0m\u001b[1;33m[\u001b[0m\u001b[1;36m1\u001b[0m\u001b[1;33m]\u001b[0m\u001b[1;33m,\u001b[0m \u001b[0mstr800_quick\u001b[0m\u001b[1;33m[\u001b[0m\u001b[1;36m1\u001b[0m\u001b[1;33m]\u001b[0m\u001b[1;33m,\u001b[0m \u001b[0mstr1000_quick\u001b[0m\u001b[1;33m[\u001b[0m\u001b[1;36m1\u001b[0m\u001b[1;33m]\u001b[0m\u001b[1;33m]\u001b[0m\u001b[1;33m\u001b[0m\u001b[1;33m\u001b[0m\u001b[0m\n",
      "\u001b[1;31mNameError\u001b[0m: name 'str200_bubble' is not defined"
     ]
    }
   ],
   "source": [
    "Summary = {\n",
    "    'NumberOfStrings': [200, 400, 600, 800, 1000],\n",
    "    'BubbleSort': [str200_bubble[1], str400_bubble[1], str600_bubble[1], str800_bubble[1], str1000_bubble[1]],\n",
    "    'MergeSort': [str200_merge[1], str400_merge[1] , str600_merge[1], str800_merge[1], str1000_merge[1]],\n",
    "    'QuickSort': [str200_quick[1], str400_quick[1], str600_quick[1], str800_quick[1], str1000_quick[1]]\n",
    "    }\n",
    "\n",
    "df = pd.DataFrame.from_dict(Summary)\n"
   ]
  },
  {
   "source": [
    "## Table 1: Times for each algorithm given the length of the starting list"
   ],
   "cell_type": "markdown",
   "metadata": {}
  },
  {
   "cell_type": "code",
   "execution_count": null,
   "metadata": {},
   "outputs": [],
   "source": [
    "df"
   ]
  },
  {
   "cell_type": "code",
   "execution_count": null,
   "metadata": {},
   "outputs": [],
   "source": [
    "long_df =  df.melt(id_vars=['NumberOfStrings'],\n",
    "                    value_vars=['BubbleSort', 'MergeSort', 'QuickSort'],var_name='Algo', value_name='Time(ms)') "
   ]
  },
  {
   "source": [
    "## Figure 1: Sorth Algorithm Time Complexity"
   ],
   "cell_type": "markdown",
   "metadata": {}
  },
  {
   "cell_type": "code",
   "execution_count": null,
   "metadata": {},
   "outputs": [],
   "source": [
    "sns.scatterplot(data = long_df, x='NumberOfStrings', hue='Algo', y='Time(ms)', s=100)\n"
   ]
  },
  {
   "source": [
    "## Figure 2: Merge and Quick Sort time complexity"
   ],
   "cell_type": "markdown",
   "metadata": {}
  },
  {
   "cell_type": "code",
   "execution_count": null,
   "metadata": {},
   "outputs": [],
   "source": [
    "MergeQuick_df = long_df[long_df.Algo != 'BubbleSort']\n",
    "sns.scatterplot(data = MergeQuick_df, x='NumberOfStrings', hue='Algo', y='Time(ms)', s=100)"
   ]
  },
  {
   "source": [
    "# Discussion\n",
    "\n",
    "Three sorting algorithms were tested for their time complexity in sorting lists of varying sizes of string elements. Each string element in the list was randomly populated with 50 alphabetic lower case characters. The number of elements within the list was varied. Five lists containing 200, 400, 600, 800, and 1000 strings were sorted via BubbleSort, MergeSort, and QuickSort. The times (given in milliseconds) required to perform the sort are collected and displayed in Table 1. By far, the most inefficient sorting algorithm demonstrated here is the bubble sort whose complexity is shown graphically (figure 1) to grow at n\\*n or O(n^2) rate. This makes sense for bubble sort as it compares n elements amongst n elements.  \n",
    "\n",
    "Alternatively, the other two methodologies utilize a divide and conquer strategy. The list of strings when using QuickSort are divided into two arrays (greater and less) which contain values which are greater or less than a pivot value. In MergeSort a similar strategy is achieved by dividing the list into two arrays (left and right) which are left and right respectivly from the center element of the list. In both of these arrays recursion is used as the QuickSort and MergeSort functions are called on the subarrays. The result of this divide and conquer strategy is a complexity of n*logn or O(n*logn) in big O notation. A direct comparision of the times required for sorting the lists with these two methodologies are shown in Figure 2. \n",
    "\n",
    "In rare instances QuickSort may also dramatically underperform as the pivot element is always selected as the first item of the array (or subarray). If an array contained a list which was sorted largest to smallest already, this method could also have very high complexity as you would not divide the list recursively for an array of n size (this would also be n\\*n complexity O(n^2)). It is interesting the QuickSort seems to perform slightly better than MergeSort, but both are quite efficient. Because of the splitting methodology employed by the MergeSort, there lacks a risk of any deviation from the O(n*logn) complexity. The begining array and subarrays are always split in half size-wise. It's therefore recommended that the MergeSort method be used as the time complexity will always be constant. "
   ],
   "cell_type": "markdown",
   "metadata": {}
  },
  {
   "source": [
    "# ------------------------ END ------------------------\n"
   ],
   "cell_type": "markdown",
   "metadata": {}
  }
 ]
}