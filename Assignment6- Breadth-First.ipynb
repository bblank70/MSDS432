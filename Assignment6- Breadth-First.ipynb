{
 "cells": [
  {
   "cell_type": "markdown",
   "metadata": {},
   "source": [
    "# Assignment 6: Implement a Breadth-first Search Algorithm\n",
    "\n",
    "\n",
    "In this exercise, we will begin to explore the concept of hashing and how it related to various object containers with respect to computational complexity.  We will begin with the base code for as described in Chapter 5 of Grokking Algorithms (Bhargava 2016).  \n"
   ]
  },
  {
   "cell_type": "markdown",
   "metadata": {},
   "source": [
    "## Deliverables:\n",
    "\n",
    " \n",
    "\n",
    "    1) Create a five level 'connections' graph (all unique, no duplicates).\n",
    "    \n",
    "        * The first level should have five people and each person in first level should have five connections\n",
    "          (they can be exclusive to one person or shared with other members on the same level, but all five should be unique, no duplicates)\n",
    "          Each person in the second level should have five connections (they can be exclusive to one person or shared with other members on the same level, but all five should be unique, no duplicates).\n",
    "\n",
    "        * Continue the same for third, fourth, and fifth levels\n",
    "        * There should be no reverse connections (i.e. first level can connect to second level but second cannot have any reverse connection with the first, and so on for 3rd, 4th, and 5th levels)\n",
    "\n",
    "    2) Now search for three people on each level and capture the time for each search.\n",
    "    \n",
    "    3) Organize the results of the study into an table showing the 'name' that you searched for, the level of the search (first, second, third, fourth, fifth), and the time it took.\n",
    "       Discuss any findings.\n",
    "\n",
    "    4) Using the average time for each level, create a plot and compare times at each level (five bars or any other suitable visual).  Discuss any findings.\n",
    "\n",
    "\n",
    "    \n",
    "### Prepare an executive summary of your results, referring to the table and figures you have generated. Explain how your results relate to big O notation. Describe your results in language that management can understand. This summary should be included as text paragraphs in the Jupyter notebook. Explain how the algorithm works and why it is a useful to data engineers."
   ]
  },
  {
   "cell_type": "markdown",
   "metadata": {},
   "source": [
    "# A. Setup: Library imports, Function construction and Array generation"
   ]
  },
  {
   "cell_type": "code",
   "execution_count": 13,
   "metadata": {},
   "outputs": [],
   "source": [
    "import numpy as np\n",
    "import pandas as pd\n",
    "\n",
    "import seaborn as sns\n",
    "import time\n",
    "\n",
    "import random\n",
    "import string\n",
    "\n",
    "\n",
    "RANDOM_SEED = 8 #sets random seed"
   ]
  },
  {
   "cell_type": "code",
   "execution_count": null,
   "metadata": {},
   "outputs": [],
   "source": [
    "from collections import deque\n",
    "\n",
    "def person_is_seller(name):\n",
    "      return name[-1] == 'm'\n",
    "\n",
    "graph = {}\n",
    "graph[\"you\"] = [\"alice\", \"bob\", \"claire\"]\n",
    "graph[\"bob\"] = [\"anuj\", \"peggy\"]\n",
    "graph[\"alice\"] = [\"peggy\"]\n",
    "graph[\"claire\"] = [\"thom\", \"jonny\"]\n",
    "graph[\"anuj\"] = []\n",
    "graph[\"peggy\"] = []\n",
    "graph[\"thom\"] = []\n",
    "graph[\"jonny\"] = []\n",
    "\n",
    "def search(name):\n",
    "    search_queue = deque()\n",
    "    search_queue += graph[name]\n",
    "    # This is how you keep track of which people you've searched before.\n",
    "    searched = set()\n",
    "    while search_queue:\n",
    "        person = search_queue.popleft()\n",
    "        # Only search this person if you haven't already searched them.\n",
    "        if person not in searched:\n",
    "            if person_is_seller(person):\n",
    "                print(person + \" is a mango seller!\")\n",
    "                return True\n",
    "            else:\n",
    "                search_queue += graph[person]\n",
    "                # Marks this person as searched\n",
    "                searched.add(person)\n",
    "    return False\n",
    "\n",
    "search(\"you\")"
   ]
  },
  {
   "cell_type": "code",
   "execution_count": null,
   "metadata": {},
   "outputs": [],
   "source": [
    "graph = {}\n",
    "\n",
    "#first levels\n",
    "graph['Alfred'] = ['Alice', 'Ahmed','Brian', 'Barbara', 'Bart']\n",
    "graph['Alice'] = ['Alfred', 'Anton', 'Brian', 'Bob', 'Beatrice']\n",
    "graph['Anton'] = ['Alice', 'Beatrice', 'Bob', 'Bart', 'Barbara']\n",
    "graph['Arthur'] = ['Ahmed', 'Brian', 'Bob',  'Bart', 'Cara']\n",
    "graph['Ahmed'] =['Alfred', 'Arthur' , 'Dory', 'Evelyn', 'Edward']\n",
    "\n",
    "#second levels\n",
    "graph['Beatrice'] = ['Brian', 'Bart','Cara' ,'Claire', 'Chuck' ]\n",
    "graph['Brian'] = ['Beatrice', 'Bob', 'Chelsey', 'Chuck' , 'Charles']\n",
    "graph['Bob'] = ['Brian', 'Barbara', 'Claire', 'Dory' , 'Daryl' ]\n",
    "graph['Bart'] = ['Beatrice', 'Chelsey' , 'Chuck' , 'Charles' , 'Denise' ]\n",
    "graph['Barbara'] = ['Bob', 'Derek' , 'Denise' , 'Daryl', 'Ester' ]\n",
    "\n",
    "#third levels\n",
    "graph['Chelsey'] = ['Cara', 'Chuck', 'Dory', 'Dennis', 'Edward' ]\n",
    "graph['Cara'] = ['Chelsey', 'Claire', 'Charles', 'Derek','Dennis']\n",
    "graph['Claire'] = ['Cara', 'Chuck', 'Dory', 'Daryl', 'Evelyn']\n",
    "graph['Chuck'] = ['Claire', 'Chelsey', 'Derek', 'Dennis', 'Daryl']\n",
    "graph['Charles'] = ['Cara', 'Claire', 'Denise', 'Dory', 'Dennis']\n",
    "\n",
    "#forth levels\n",
    "graph['Denise'] =\n",
    "graph['Derek'] =\n",
    "graph['Dory'] =\n",
    "graph['Dennis'] =\n",
    "graph['Daryl'] =\n",
    "\n",
    "#fifth levels\n",
    "graph['Eugene']  = ['Edward',]\n",
    "graph['Edward'] = ['Eugene','Ester']\n",
    "graph['Elizibeth'] = []\n",
    "graph['Ester'] = ['Edward']\n",
    "graph['Evelyn'] ="
   ]
  }
 ],
 "metadata": {
  "kernelspec": {
   "display_name": "Python 3",
   "language": "python",
   "name": "python3"
  },
  "language_info": {
   "codemirror_mode": {
    "name": "ipython",
    "version": 3
   },
   "file_extension": ".py",
   "mimetype": "text/x-python",
   "name": "python",
   "nbconvert_exporter": "python",
   "pygments_lexer": "ipython3",
   "version": "3.7.9"
  }
 },
 "nbformat": 4,
 "nbformat_minor": 2
}