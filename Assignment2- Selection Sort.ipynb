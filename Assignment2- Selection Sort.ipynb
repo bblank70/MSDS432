{
 "metadata": {
  "language_info": {
   "codemirror_mode": {
    "name": "ipython",
    "version": 3
   },
   "file_extension": ".py",
   "mimetype": "text/x-python",
   "name": "python",
   "nbconvert_exporter": "python",
   "pygments_lexer": "ipython3",
   "version": 3
  },
  "orig_nbformat": 2
 },
 "nbformat": 4,
 "nbformat_minor": 2,
 "cells": [
  {
   "source": [
    "# Assignment 2: Implementation of Selection Sort\n"
   ],
   "cell_type": "markdown",
   "metadata": {}
  },
  {
   "source": [
    "## Deliverables:\n",
    "\n",
    "We will again generate random data for this assignment.  \n",
    "\n",
    "    1) Please set up five data arrays of length 5,000, 10,000, 15,000, 20,000, and 25,000 of uniformly distributed random numbers (you may use either integers or floating point).  \n",
    "        Ensure that a common random number seed is used to generate each of the arrays. \n",
    "    2) Execute the base  algorithm (Selection Sort) for each of the random number arrays, noting the execution time with each execution. \n",
    "        Use one of the timing methods we learned in class.\n",
    "    3) Just as in the l ast assignment, please organize the results of the study into a table showing the size of data array and the time taken to sort the array.\n",
    "        Discuss the differences in timing and how they relate to data type and length of array. \n",
    "    4) Use Python matpl otlib or Seaborn to generate a measure of the size of the data set on the horizontal axis and with execution time in milliseconds on the vertical axis.\n",
    "        The plot should show execution time against problem size for each form of the algorithm being tested.\n",
    "\n",
    "### Prepare an exec summary of your results, referring to the table and figures you have generated. Explain how your results relate to big O notation. Describe your results in language that management can understand. This summary should be included as text paragraphs in the Jupyter notebook. Explain how the algorithm works and why it is a useful to data engineers."
   ],
   "cell_type": "markdown",
   "metadata": {}
  },
  {
   "source": [
    "import numpy as np\n",
    "import pandas as pd\n",
    "from datetime import datetime\n",
    "import seaborn as sns\n",
    "import time"
   ],
   "cell_type": "code",
   "metadata": {},
   "execution_count": null,
   "outputs": []
  },
  {
   "cell_type": "code",
   "execution_count": null,
   "metadata": {},
   "outputs": [],
   "source": [
    "np.random_seed(5)"
   ]
  },
  {
   "cell_type": "code",
   "execution_count": null,
   "metadata": {},
   "outputs": [],
   "source": [
    "def GenerateArray(size, rg_low=1, rg_high=10000):\n",
    "    \n",
    "    GenArray = np.random.randint(low=rg_low, high= rg_high, size=size)\n",
    "    return GenArray"
   ]
  }
 ]
}