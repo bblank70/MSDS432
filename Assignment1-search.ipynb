{
 "metadata": {
  "language_info": {
   "codemirror_mode": {
    "name": "ipython",
    "version": 3
   },
   "file_extension": ".py",
   "mimetype": "text/x-python",
   "name": "python",
   "nbconvert_exporter": "python",
   "pygments_lexer": "ipython3",
   "version": "3.7.9-final"
  },
  "orig_nbformat": 2,
  "kernelspec": {
   "name": "python379jvsc74a57bd0d21ade3f8f024ee8ef81c475e4ba98f13d175885fba3236d9d4d73bd66cf6406",
   "display_name": "Python 3.7.9 64-bit (conda)"
  }
 },
 "nbformat": 4,
 "nbformat_minor": 2,
 "cells": [
  {
   "source": [
    "# Assignment 1: Search Algorithms\n",
    "\n",
    "\n",
    "## Deliverables:\n",
    "    1) Make five arrays, each of length 512, 1024, 2048, 4096, and 8192 containing randomly\n",
    "       generated uniformly distributed integers from 1 to 10000. \n",
    "       You may use the numpy package for this.  \n",
    "\n",
    "    2) Sort each of the random number arrays from smallest to largest. \n",
    "       You may use any algorithm to sort the data.\n",
    "\n",
    "    3) Execute the base search algorithm (binary search) (from the text and github code) \n",
    "       for each of array, noting the execution time for each array.  With each execution\n",
    "       use the maximum value of the random number array as the number for which you are searching.\n",
    "\n",
    "    4) Use python (perhaps with the Pandas package) to prepare a five-column table containing\n",
    "       the following columns with all times in milliseconds:\n",
    "    \n",
    "                    length of the random number array\n",
    "                    sort time\n",
    "                    linear search time for the sorted array\n",
    "                    binary search time for the sorted array\n",
    "                    binary search plus sort times\n",
    "\n",
    "    5) Use python matplotlib or Seaborn to generate a plot with the size of the random number array on the horizontal axis\n",
    "     and with execution time in milliseconds on the vertical axis. The plot should show execution time against\n",
    "     array size for linear and binary search algorithms alone.  Discuss the results.\n",
    "\n",
    "    6) Use Python matplotlib or Seaborn to generate a measure of the size of the data set on the horizontal axis\n",
    "     and with execution time in milliseconds on the vertical axis. The plot should show execution time against\n",
    "     array size for each form of the algorithm being tested (last four columns of the table).  Discuss the results.\n"
   ],
   "cell_type": "markdown",
   "metadata": {}
  },
  {
   "source": [
    "## Code adapted from:\n",
    "Bhargava, Aditya. Grokking Algorithms. Manning Publications, 2016."
   ],
   "cell_type": "markdown",
   "metadata": {}
  },
  {
   "cell_type": "code",
   "execution_count": 6,
   "metadata": {},
   "outputs": [],
   "source": [
    "import numpy as np\n",
    "import pandas as pd\n",
    "from datetime import datetime\n",
    "\n",
    "\n"
   ]
  },
  {
   "cell_type": "code",
   "execution_count": 7,
   "metadata": {},
   "outputs": [],
   "source": [
    "np.random.seed(0)"
   ]
  },
  {
   "cell_type": "code",
   "execution_count": 8,
   "metadata": {},
   "outputs": [],
   "source": [
    "#function Generate Array generates an array of given size that contains random integers between 1 and 10,000. The function sorts and returns the array and the time required to perform the sort. Default sort kind for the generated numpy array is mergesort, but user can override.\n",
    "def GenerateArray(size, sort_kind='mergesort'):\n",
    "    \n",
    "    GenArray = np.random.randint(low=1, high= 10000, size=size)\n",
    "    start = datetime.now()\n",
    "    GenArray.sort(kind=sort_kind) \n",
    "    end = datetime.now()\n",
    "\n",
    "    ArraySortTime = (end-start).total_seconds()*1E3\n",
    "    return (GenArray, ArraySortTime)\n"
   ]
  },
  {
   "cell_type": "code",
   "execution_count": 10,
   "metadata": {},
   "outputs": [],
   "source": [
    "def SimpleSearch(array, item):\n",
    "    start = datetime.now()\n",
    "    register = [] # creates  empty register of guesses\n",
    "    low = 1 \n",
    "    while item > low:\n",
    "            low += 1 #increments low\n",
    "            register.append(low) # appends incremental guesses to register\n",
    " \n",
    "    end = datetime.now()\n",
    "    duration = end - start\n",
    "    MilliElapsed = duration.total_seconds()*1E3\n",
    " # returns a tuple which contains search time in milliseconds and register of the guesses\n",
    "    return MilliElapsed, register"
   ]
  },
  {
   "cell_type": "code",
   "execution_count": 12,
   "metadata": {},
   "outputs": [],
   "source": [
    "def BinarySearch(array, item):\n",
    "    start = datetime.now()\n",
    "    low = np.min(array)\n",
    "    high = np.max(array)\n",
    "    register = [] # creates  empty register of increments; for debug purposes\n",
    "    while low <= high:     \n",
    "        mid= (low +high)/2  #finds midpoint\n",
    "        guess = int(mid)+1  \n",
    "        register.append(guess) # appends increments to register; for debug purposes\n",
    "        if guess == item:\n",
    "                end = datetime.now()\n",
    "                duration = end - start\n",
    "                MilliElapsed = duration.total_seconds()*1E3  \n",
    "#returns a tuple which contains search time in milliseconds and register of the guesses \n",
    "                return MilliElapsed, register \n",
    "        elif guess > item:\n",
    "                high = mid\n",
    "\n",
    "        else:\n",
    "                low = mid\n"
   ]
  },
  {
   "cell_type": "code",
   "execution_count": 11,
   "metadata": {},
   "outputs": [],
   "source": [
    "# test code for SimpleSearch function\n",
    "\n",
    "#s = np.random.randint(low=1, high=100, size=10)\n",
    "#s.sort(kind='mergesort')\n",
    "#s\n",
    "\n",
    "#SimpleSearch(list(s),82)"
   ]
  },
  {
   "cell_type": "code",
   "execution_count": 13,
   "metadata": {},
   "outputs": [],
   "source": [
    "# test code for BinarySearch function\n",
    "#BinarySearch(five12[0], np.max(five12[0])) #testing the binary search "
   ]
  },
  {
   "cell_type": "code",
   "execution_count": 28,
   "metadata": {},
   "outputs": [
    {
     "output_type": "execute_result",
     "data": {
      "text/plain": [
       "512"
      ]
     },
     "metadata": {},
     "execution_count": 28
    }
   ],
   "source": [
    "#\n",
    "five12=GenerateArray(512)\n",
    "ten24 = GenerateArray(1024)\n",
    "twenty48 = GenerateArray(2048)\n",
    "forty96 = GenerateArray(4096)\n",
    "eight192 = GenerateArray(8192)\n",
    "\n",
    "len(five12[0])"
   ]
  },
  {
   "source": [
    "## Simple and Binary Search for arrays of 512, 1024, 2048, 4096 elements"
   ],
   "cell_type": "markdown",
   "metadata": {}
  },
  {
   "cell_type": "code",
   "execution_count": 29,
   "metadata": {},
   "outputs": [],
   "source": [
    "simple_512 = SimpleSearch(five12[0], np.max(five12[0]))\n",
    "binary_512 = BinarySearch(five12[0], np.max(five12[0]))\n",
    "\n",
    "simple_1024 = SimpleSearch(ten24[0], np.max(ten24[0]))\n",
    "binary_1024 = BinarySearch(ten24[0], np.max(ten24[0]))\n",
    "\n",
    "simple_2048 = SimpleSearch(twenty48[0], np.max(twenty48[0]))\n",
    "binary_2048 = BinarySearch(twenty48[0], np.max(twenty48[0]))\n",
    "\n",
    "simple_4096 = SimpleSearch(forty96[0], np.max(forty96[0]))\n",
    "binary_4096 = BinarySearch(forty96[0], np.max(forty96[0]))"
   ]
  },
  {
   "source": [
    "## Simple and Binary Search for 8192 elements"
   ],
   "cell_type": "markdown",
   "metadata": {}
  },
  {
   "cell_type": "code",
   "execution_count": 30,
   "metadata": {},
   "outputs": [
    {
     "output_type": "stream",
     "name": "stdout",
     "text": [
      "Guesses Made: 9993    Max Guess: 9994   Max in array: 9994  Duration (ms): 1.961\nGuesses Made: 14    Max Guess: 9994   Max in array: 9994  Duration (ms): 0.0\n"
     ]
    }
   ],
   "source": [
    "simple_8192= SimpleSearch(eight192[0], np.max(eight192[0]))\n",
    "\n",
    "print('Guesses Made:',len(simple_8192[1]), '   Max Guess:', max(simple_8192[1]),\n",
    "'  Max in array:', max(eight192[0]), ' Duration (ms):', simple_8192[0])\n",
    "\n",
    "binary_8192 = BinarySearch(eight192[0], np.max(eight192[0]))\n",
    "\n",
    "print('Guesses Made:',len(binary_8192[1]), '   Max Guess:', max(binary_8192[1]),\n",
    "'  Max in array:', max(eight192[0]), ' Duration (ms):', binary_8192[0])\n"
   ]
  },
  {
   "source": [
    "# Summary Dataframe\n",
    "                length of the random number array\n",
    "                sort time\n",
    "                linear search time for the sorted array\n",
    "                binary search time for the sorted array\n",
    "                binary search plus sort times"
   ],
   "cell_type": "markdown",
   "metadata": {}
  },
  {
   "cell_type": "code",
   "execution_count": 33,
   "metadata": {},
   "outputs": [
    {
     "output_type": "stream",
     "name": "stdout",
     "text": [
      "Guesses Made: 9991    Max Guess: 9992   Max in array: 9992  Duration (ms): 4.001\n"
     ]
    }
   ],
   "source": [
    "print('Guesses Made:',len(simple_512[1]), '   Max Guess:', max(simple_512[1]),\n",
    "'  Max in array:', max(five12[0]), ' Duration (ms):', simple_512[0])"
   ]
  },
  {
   "cell_type": "code",
   "execution_count": 31,
   "metadata": {},
   "outputs": [],
   "source": [
    "Summary = {\n",
    "    'NumberOfElements': [len(five12[0]), len(ten24[0]), len(twenty48[0]), len(forty96[0]), len(eight192[0])], \n",
    "    'SortTime (ms)': [five12[1], ten24[1], twenty48[1], forty96[1], eight192[1]],\n",
    "    'SimpleSearchTime (ms)': [simple_512[0], simple_1024[0], simple_2048[0], simple_4096[0], simple_8192[0]],\n",
    "    'BinarySearchTime (ms)': [binary_512[0], binary_1024[0], binary_2048[0], binary_4096[0], binary_8192[0]]\n",
    "        }\n",
    "\n",
    "df = pd.DataFrame.from_dict(Summary)"
   ]
  },
  {
   "cell_type": "code",
   "execution_count": 20,
   "metadata": {},
   "outputs": [
    {
     "output_type": "execute_result",
     "data": {
      "text/plain": [
       "   NumberOfElements  SortTime (ms)  SimpleSearchTime (ms)  \\\n",
       "0               512          1.000                  4.986   \n",
       "1              1024          0.000                  4.986   \n",
       "2              2048          0.000                  2.992   \n",
       "3              4096          0.000                  1.995   \n",
       "4              8192          0.996                  1.994   \n",
       "\n",
       "   BinarySearchTime (ms)  \n",
       "0                  0.000  \n",
       "1                  0.000  \n",
       "2                  0.000  \n",
       "3                  0.000  \n",
       "4                  0.999  "
      ],
      "text/html": "<div>\n<style scoped>\n    .dataframe tbody tr th:only-of-type {\n        vertical-align: middle;\n    }\n\n    .dataframe tbody tr th {\n        vertical-align: top;\n    }\n\n    .dataframe thead th {\n        text-align: right;\n    }\n</style>\n<table border=\"1\" class=\"dataframe\">\n  <thead>\n    <tr style=\"text-align: right;\">\n      <th></th>\n      <th>NumberOfElements</th>\n      <th>SortTime (ms)</th>\n      <th>SimpleSearchTime (ms)</th>\n      <th>BinarySearchTime (ms)</th>\n    </tr>\n  </thead>\n  <tbody>\n    <tr>\n      <th>0</th>\n      <td>512</td>\n      <td>1.000</td>\n      <td>4.986</td>\n      <td>0.000</td>\n    </tr>\n    <tr>\n      <th>1</th>\n      <td>1024</td>\n      <td>0.000</td>\n      <td>4.986</td>\n      <td>0.000</td>\n    </tr>\n    <tr>\n      <th>2</th>\n      <td>2048</td>\n      <td>0.000</td>\n      <td>2.992</td>\n      <td>0.000</td>\n    </tr>\n    <tr>\n      <th>3</th>\n      <td>4096</td>\n      <td>0.000</td>\n      <td>1.995</td>\n      <td>0.000</td>\n    </tr>\n    <tr>\n      <th>4</th>\n      <td>8192</td>\n      <td>0.996</td>\n      <td>1.994</td>\n      <td>0.999</td>\n    </tr>\n  </tbody>\n</table>\n</div>"
     },
     "metadata": {},
     "execution_count": 20
    }
   ],
   "source": [
    "df"
   ]
  },
  {
   "cell_type": "code",
   "execution_count": 17,
   "metadata": {},
   "outputs": [],
   "source": [
    "### Archive this code\n",
    "#generates five arrays of length 512, 1024, 2048, 8192\n",
    "#five12 = np.random.randint(low=1, high=10000, size=512)\n",
    "#ten24 = np.random.randint(low=1, high=10000, size=1024)\n",
    "#twenty48 = np.random.randint(low=1, high=10000, size=2048)\n",
    "#forty96 = np.random.randint(low=1, high=10000, size=4096)\n",
    "#eight192 = np.random.randint(low=1, high=10000, size=8192)\n"
   ]
  },
  {
   "cell_type": "code",
   "execution_count": 18,
   "metadata": {},
   "outputs": [],
   "source": [
    "### Archive this code\n",
    "\n",
    "#sorts 5 arrays and stores duration required to sort in milliseconds\n",
    "#start = datetime.now()\n",
    "#five12.sort(kind='mergesort')\n",
    "#end = datetime.now()\n",
    "#five12_sort = (end-start).total_seconds()*1E3\n",
    "\n",
    "#start = datetime.now()\n",
    "#ten24.sort(kind='mergesort')\n",
    "#end = datetime.now()\n",
    "#ten24_sort = (end-start).total_seconds()*1E3\n",
    "\n",
    "#start = datetime.now()\n",
    "#twenty48.sort(kind='mergesort')\n",
    "#end = datetime.now()\n",
    "#twenty48_sort = (end-start).total_seconds()*1E3\n",
    "\n",
    "#start = datetime.now()\n",
    "#forty96.sort(kind='mergesort')\n",
    "#end = datetime.now()\n",
    "#forty96_sort = (end-start).total_seconds()*1E3\n",
    "\n",
    "#start = datetime.now()\n",
    "#eight192.sort(kind='mergesort')\n",
    "#end = datetime.now()\n",
    "#eight192_sort = (end-start).total_seconds()*1E3\n",
    "\n"
   ]
  },
  {
   "cell_type": "code",
   "execution_count": 19,
   "metadata": {},
   "outputs": [],
   "source": [
    "### Archive this code.\n",
    "#start = datetime.now() #time object for starting search\n",
    "#end = SimpleSearch(eight192, np.max(eight192)) #end collects the register of guesses and time to execute\n",
    "\n",
    "#duration =end[0] - start #calculates the timedelta between execution and completion\n",
    "#eight192_simple = duration.total_seconds()*1E3 #stores the time required in milliseconds\n",
    "\n",
    "\n",
    "\n",
    "#start = datetime.now() #time object for starting search\n",
    "#end = BinarySearch(eight192, np.max(eight192)) #end collects the register of guesses and time to execute\n",
    "#duration =end[0] - start #calculates the timedelta between execution and completion\n",
    "#eight192_binary=duration.total_seconds()*1E3 #stores the time required in milliseconds"
   ]
  }
 ]
}