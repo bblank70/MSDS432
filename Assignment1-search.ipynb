{
 "metadata": {
  "language_info": {
   "codemirror_mode": {
    "name": "ipython",
    "version": 3
   },
   "file_extension": ".py",
   "mimetype": "text/x-python",
   "name": "python",
   "nbconvert_exporter": "python",
   "pygments_lexer": "ipython3",
   "version": 3
  },
  "orig_nbformat": 2
 },
 "nbformat": 4,
 "nbformat_minor": 2,
 "cells": [
  {
   "source": [
    "# Assignment 1: Search Algorithms\n",
    "\n",
    "\n",
    "## Deliverables:\n",
    "    1) Make five arrays, each of length 512, 1024, 2048, 4096, and 8192 containing randomly\n",
    "       generated uniformly distributed integers from 1 to 10000. \n",
    "       You may use the numpy package for this.  \n",
    "\n",
    "    2) Sort each of the random number arrays from smallest to largest. \n",
    "       You may use any algorithm to sort the data.\n",
    "\n",
    "    3) Execute the base search algorithm (binary search) (from the text and github code) \n",
    "       for each of array, noting the execution time for each array.  With each execution\n",
    "       use the maximum value of the random number array as the number for which you are searching.\n",
    "\n",
    "    4) Use python (perhaps with the Pandas package) to prepare a five-column table containing\n",
    "       the following columns with all times in milliseconds:\n",
    "    \n",
    "                    length of the random number array\n",
    "                    sort time\n",
    "                    linear search time for the sorted array\n",
    "                    binary search time for the sorted array\n",
    "                    binary search plus sort times\n",
    "\n",
    "    5) Use python matplotlib or Seaborn to generate a plot with the size of the random number array on the horizontal axis\n",
    "     and with execution time in milliseconds on the vertical axis. The plot should show execution time against\n",
    "     array size for linear and binary search algorithms alone.  Discuss the results.\n",
    "\n",
    "    6) Use Python matplotlib or Seaborn to generate a measure of the size of the data set on the horizontal axis\n",
    "     and with execution time in milliseconds on the vertical axis. The plot should show execution time against\n",
    "     array size for each form of the algorithm being tested (last four columns of the table).  Discuss the results.\n"
   ],
   "cell_type": "markdown",
   "metadata": {}
  },
  {
   "cell_type": "code",
   "execution_count": null,
   "metadata": {},
   "outputs": [],
   "source": []
  }
 ]
}